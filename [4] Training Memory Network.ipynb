{
 "cells": [
  {
   "cell_type": "markdown",
   "metadata": {
    "run_control": {
     "marked": true
    }
   },
   "source": [
    "# Loading data"
   ]
  },
  {
   "cell_type": "code",
   "execution_count": 1,
   "metadata": {
    "ExecuteTime": {
     "end_time": "2017-09-13T15:03:34",
     "start_time": "2017-09-13T13:03:34.893Z"
    },
    "collapsed": true,
    "run_control": {
     "marked": true
    }
   },
   "outputs": [],
   "source": [
    "data_loader = require 'utils.data_loader';\n",
    "QUICKLOAD = false"
   ]
  },
  {
   "cell_type": "code",
   "execution_count": 2,
   "metadata": {
    "ExecuteTime": {
     "end_time": "2017-09-13T15:03:34",
     "start_time": "2017-09-13T13:03:34.899Z"
    },
    "collapsed": false,
    "run_control": {
     "marked": true
    }
   },
   "outputs": [
    {
     "data": {
      "text/plain": [
       "saving /Users/david/Documents/MemoryNetwork/output_lua/vocab.t7\t\n"
      ]
     },
     "execution_count": 2,
     "metadata": {},
     "output_type": "execute_result"
    },
    {
     "data": {
      "text/plain": [
       "saving its index in /Users/david/Documents/MemoryNetwork/output_lua/vocab.t7_index\t\n"
      ]
     },
     "execution_count": 2,
     "metadata": {},
     "output_type": "execute_result"
    },
    {
     "data": {
      "text/plain": [
       "putting sample tensor into /Users/david/Documents/MemoryNetwork/output_lua/sample.t7...\t\n"
      ]
     },
     "execution_count": 2,
     "metadata": {},
     "output_type": "execute_result"
    },
    {
     "data": {
      "text/plain": [
       "saving /Users/david/Documents/MemoryNetwork/output_lua/sample.t7\t\n",
       "putting label tensor into /Users/david/Documents/MemoryNetwork/output_lua/data.t7...\t\n",
       "saving /Users/david/Documents/MemoryNetwork/output_lua/data.t7\t\n"
      ]
     },
     "execution_count": 2,
     "metadata": {},
     "output_type": "execute_result"
    }
   ],
   "source": [
    "if QUICKLOAD then\n",
    "    x = torch.load(\"/Users/david/Documents/MemoryNetwork/output_lua/sample.t7\")\n",
    "    y = torch.load(\"/Users/david/Documents/MemoryNetwork/output_lua/label.t7\")\n",
    "    voc = torch.load(\"/Users/david/Documents/MemoryNetwork/output_lua/vocab.t7\")\n",
    "    index = torch.load(\"/Users/david/Documents/MemoryNetwork/output_lua/vocab.t7_index\")\n",
    "else \n",
    "    input_file = \"/Users/david/Documents/MemoryNetwork/preprocessing/output.txt\"\n",
    "    out_vocab_file = \"/Users/david/Documents/MemoryNetwork/output_lua/vocab.t7\"\n",
    "    out_tensor_file = \"/Users/david/Documents/MemoryNetwork/output_lua/data.t7\"\n",
    "    voc = torch.load(\"/Users/david/Documents/MemoryNetwork/output_lua/vocab.t7\")\n",
    "    index = torch.load(\"/Users/david/Documents/MemoryNetwork/output_lua/vocab.t7_index\")\n",
    "    x, y,f = data_loader.text_to_tensor(input_file,out_vocab_file,out_tensor_file)\n",
    "end"
   ]
  },
  {
   "cell_type": "code",
   "execution_count": 3,
   "metadata": {
    "ExecuteTime": {
     "end_time": "2017-09-13T15:03:34",
     "start_time": "2017-09-13T13:03:34.903Z"
    },
    "collapsed": false
   },
   "outputs": [
    {
     "data": {
      "text/plain": [
       " 70\n",
       " 58\n",
       "[torch.LongStorage of size 2]\n",
       "\n",
       " 70\n",
       " 58\n",
       "[torch.LongStorage of size 2]\n",
       "\n",
       " 70\n",
       "  9\n",
       "[torch.LongStorage of size 2]\n",
       "\n"
      ]
     },
     "execution_count": 3,
     "metadata": {},
     "output_type": "execute_result"
    }
   ],
   "source": [
    "-- Checking x\n",
    "print(x:size())\n",
    "-- Checking y\n",
    "print(y:size())\n",
    "-- Checking f\n",
    "print(f:size())"
   ]
  },
  {
   "cell_type": "code",
   "execution_count": null,
   "metadata": {
    "ExecuteTime": {
     "end_time": "2017-09-14T12:05:33",
     "start_time": "2017-09-14T10:05:33.446Z"
    },
    "collapsed": false,
    "run_control": {
     "marked": false
    },
    "scrolled": true
   },
   "outputs": [],
   "source": []
  },
  {
   "cell_type": "markdown",
   "metadata": {
    "ExecuteTime": {
     "end_time": "2017-09-13T14:43:46",
     "start_time": "2017-09-13T12:43:46.121Z"
    },
    "run_control": {
     "marked": true
    }
   },
   "source": [
    "# Loading model"
   ]
  },
  {
   "cell_type": "code",
   "execution_count": null,
   "metadata": {
    "collapsed": true
   },
   "outputs": [],
   "source": [
    "-- pre - requists\n",
    "require 'nn';\n",
    "require 'nngraph';\n",
    "require 'models.inference_module'\n",
    "require 'models.memory_module'\n",
    "require 'utils.OneHot'\n",
    "-- \n",
    "MemNet = require 'models.memory_network';"
   ]
  },
  {
   "cell_type": "code",
   "execution_count": 6,
   "metadata": {
    "ExecuteTime": {
     "end_time": "2017-09-14T12:02:33",
     "start_time": "2017-09-14T10:02:33.526Z"
    },
    "collapsed": false
   },
   "outputs": [
    {
     "data": {
      "text/plain": [
       "nn.Sequential {\n",
       "  [input -> (1) -> (2) -> output]\n",
       "  (1): nn.ConcatTable {\n",
       "    input\n",
       "      |`-> (1): nn.Sequential {\n",
       "      |      [input -> (1) -> (2) -> output]\n",
       "      |      (1): nn.Parallel {\n",
       "      |        input\n",
       "      |          |`-> (1): OneHot\n",
       "      |          |`-> (2): OneHot\n",
       "      |          |`-> (3): OneHot\n",
       "      |          |`-> (4): OneHot\n",
       "      |           `-> (5): OneHot\n",
       "      |           ... -> output\n",
       "      |      }\n",
       "      |      (2): MemoryModule\n",
       "      |    }\n",
       "       `-> (2): nn.Identity\n",
       "       ... -> output\n",
       "  }\n",
       "  (2): InferenceModule\n",
       "}\n",
       "{\n",
       "  gradInput : DoubleTensor - empty\n",
       "  modules : \n",
       "    {\n",
       "      1 : \n",
       "        nn.ConcatTable {\n",
       "          input\n",
       "            |`-> (1): nn.Sequential {\n",
       "            |      [input -> (1) -> (2) -> output]\n",
       "            |      (1): nn.Parallel {\n",
       "            |        input\n",
       "            |          |`-> (1): OneHot\n",
       "            |          |`-> (2): OneHot\n",
       "            |          |`-> (3): OneHot\n",
       "            |          |`-> (4): OneHot\n",
       "            |           `-> (5): OneHot\n",
       "            |           ... -> output\n",
       "            |      }\n",
       "            |      (2): MemoryModule\n",
       "            |    }\n",
       "             `-> (2): nn.Identity\n",
       "             ... -> output\n",
       "        }\n",
       "        {\n",
       "          gradInput : DoubleTensor - empty\n",
       "          modules : \n",
       "            {\n",
       "              1 : \n",
       "                nn.Sequential {\n",
       "                  [input -> (1) -> (2) -> output]\n",
       "                  (1): nn.Parallel {\n",
       "                    input\n",
       "                      |`-> (1): OneHot\n",
       "                      |`-> (2): OneHot\n",
       "                      |`-> (3): OneHot\n",
       "                      |`-> (4): OneHot\n",
       "                       `-> (5): OneHot\n",
       "                       ... -> output\n",
       "                  }\n",
       "                  (2): MemoryModule\n",
       "                }\n",
       "                {\n",
       "                  gradInput : DoubleTensor - empty\n",
       "                  modules : table: 0x0ba078a0\n"
      ]
     },
     "execution_count": 6,
     "metadata": {},
     "output_type": "execute_result"
    },
    {
     "data": {
      "text/plain": [
       "                  _type : torch.DoubleTensor\n",
       "                  output : DoubleTensor - empty\n",
       "                }\n",
       "              2 : \n",
       "                nn.Identity\n",
       "                {\n",
       "                  gradInput : DoubleTensor - empty\n",
       "                  _type : torch.DoubleTensor\n",
       "                  output : DoubleTensor - empty\n",
       "                }\n",
       "            }\n",
       "          _type : torch.DoubleTensor\n",
       "          output : table: 0x0ba07718\n",
       "        }\n",
       "      2 : \n",
       "        InferenceModule\n",
       "        {\n",
       "          gradInput : DoubleTensor - empty\n",
       "          mlp : \n",
       "            nn.gModule\n",
       "            {\n",
       "              output : table: 0x0c09c760\n",
       "              outnode : \n",
       "                nngraph.Node\n",
       "                {\n",
       "                  data : table: 0x0c09c700\n",
       "                  visited : false\n",
       "                  id : 1\n",
       "                  marked : false\n",
       "                  children : table: 0x0c09c7e8\n",
       "                }\n",
       "              fg : \n",
       "                graph.Graph\n",
       "                {\n",
       "                  nodes : table: 0x0bfb4b20\n",
       "                  edges : table: 0x0c16fd30\n",
       "                }\n",
       "              forwardnodes : \n",
       "                {\n",
       "                  1 : nngraph.Node\n",
       "                  2 : nngraph.Node\n",
       "                  3 : nngraph.Node\n",
       "                  4 : nngraph.Node\n",
       "                  5 : nngraph.Node\n",
       "                  6 : nngraph.Node\n",
       "                  7 : nngraph.Node\n",
       "                  8 : nngraph.Node\n",
       "                  9 : nngraph.Node\n",
       "                }\n",
       "              innode : \n",
       "                nngraph.Node\n",
       "                {\n",
       "                  data : table: 0x0c09c810\n",
       "                  visited : false\n",
       "                  id : 9\n",
       "                  marked : false\n",
       "               "
      ]
     },
     "execution_count": 6,
     "metadata": {},
     "output_type": "execute_result"
    },
    {
     "data": {
      "text/plain": [
       "   children : table: 0x0b9c7b40\n",
       "                }\n",
       "              _type : torch.DoubleTensor\n",
       "              backwardnodes : \n",
       "                {\n",
       "                  1 : nngraph.Node\n",
       "                  2 : nngraph.Node\n",
       "                  3 : nngraph.Node\n",
       "                  4 : nngraph.Node\n",
       "                  5 : nngraph.Node\n",
       "                  6 : nngraph.Node\n",
       "                  7 : nngraph.Node\n",
       "                  8 : nngraph.Node\n",
       "                  9 : nngraph.Node\n",
       "                }\n",
       "              nInputs : 2\n",
       "              verbose : false\n",
       "              bg : \n",
       "                graph.Graph\n",
       "                {\n",
       "                  nodes : table: 0x0c16fb48\n",
       "                  edges : table: 0x0c16fba8\n",
       "                }\n",
       "              modules : \n",
       "                {\n",
       "                  1 : nn.Identity\n",
       "                  2 : nn.Linear(30 -> 90)\n",
       "                  3 : nn.Identity\n",
       "                  4 : nn.Linear(30 -> 90)\n",
       "                }\n",
       "            }\n",
       "          _type : torch.DoubleTensor\n",
       "          output : DoubleTensor - empty\n",
       "        }\n",
       "    }\n",
       "  _type : torch.DoubleTensor\n",
       "  output : DoubleTensor - empty\n",
       "}\n"
      ]
     },
     "execution_count": 6,
     "metadata": {},
     "output_type": "execute_result"
    }
   ],
   "source": [
    "MemNet.create_network(5,30,10,3)"
   ]
  },
  {
   "cell_type": "code",
   "execution_count": 1,
   "metadata": {
    "ExecuteTime": {
     "end_time": "2017-09-14T11:56:55",
     "start_time": "2017-09-14T09:56:55.439Z"
    },
    "collapsed": false
   },
   "outputs": [
    {
     "data": {
      "text/plain": [
       "Columns 1 to 26\n",
       " 1  0  0  0  0  0  0  0  0  0  0  0  0  0  0  0  0  0  0  0  0  0  0  0  0  0\n",
       " 0  1  0  0  0  0  0  0  0  0  0  0  0  0  0  0  0  0  0  0  0  0  0  0  0  0\n",
       " 0  0  1  0  0  0  0  0  0  0  0  0  0  0  0  0  0  0  0  0  0  0  0  0  0  0\n",
       " 0  0  0  1  0  0  0  0  0  0  0  0  0  0  0  0  0  0  0  0  0  0  0  0  0  0\n",
       " 0  0  0  0  1  0  0  0  0  0  0  0  0  0  0  0  0  0  0  0  0  0  0  0  0  0\n",
       " 0  0  0  0  0  1  0  0  0  0  0  0  0  0  0  0  0  0  0  0  0  0  0  0  0  0\n",
       " 0  0  0  0  0  0  1  0  0  0  0  0  0  0  0  0  0  0  0  0  0  0  0  0  0  0\n",
       " 0  0  0  0  0  0  0  1  0  0  0  0  0  0  0  0  0  0  0  0  0  0  0  0  0  0\n",
       " 0  0  0  0  0  0  0  0  1  0  0  0  0  0  0  0  0  0  0  0  0  0  0  0  0  0\n",
       " 0  0  0  0  0  0  0  0  0  1  0  0  0  0  0  0  0  0  0  0  0  0  0  0  0  0\n",
       " 0  0  0  0  0  0  0  0  0  0  1  0  0  0  0  0  0  0  0  0  0  0  0  0  0  0\n",
       " 0  0  0  0  0  0  0  0  0  0  0  1  0  0  0  0  0  0  0  0  0  0  0  0  0  0\n",
       " 0  0  0  0  0  0  0  0  0  0  0  0  1  0  0  0  0  0  0  0  0  0  0  0  0  0\n",
       " 0  0  0  0  0  0  0  0  0  0  0  0  0  1  0  0  0  0  0  0  0  0  0  0  0  0\n",
       " 0  0  0  0  0  0  0  0  0  0  0  0  0  0  1  0  0  0  0  0  0  0  0  0  0  0\n",
       " 0  0  0  0  0  0  0  0  0  0  0  0  0  0  0  1  0  0  0  0  0  0  0  0  0  0\n",
       " 0  0  0  0  0  0  0  0  0  0  0  0  0  0  0  0  1  0  0  0  0  0  0  0  0  0\n",
       " 0  0  0  0  0  0  0  0  0  0  0  0  0  0  0  0  0  1  0  0  0  0  0  0  0  0\n",
       " 0  0  0  0  0  0  0  0  0  0  0  0  0  0  0  0  0  0  1  0  0  0  0  0  0  0\n",
       " 0  0  0  0  0  0  0  0  0  0  0  0  0  0  0  0  0  0  0  1  0  0  0  0  0  0\n",
       " 0  0  0  0  0  0  0  0  0  0  0  0  0  0  0  0  0  0  0  0  1  0  0  0  0  0\n",
       " 0  0  0  0  0  0  0  0  0  0  0  0  0  0  0  0  0  0  0  0  0  1  0  0  0  0\n",
       " 0  0  0  0  0  0  0  0  0  0  0  0  0  0  0  0  0  0  0  0  0  0  1  0  0  0\n",
       " 0  0  0  0  0  0  0  0  0  0  0  0  0  0  0  0  0  0  0  0  0  0  0  1  0  0\n",
       " 0  0  0  0  0  0  0  0  0  0  0  0  0  0  0  0  0  0  0  0  0  0  0  0  1  0\n",
       " 0  0  0  0  0  0  0  0  0  0  0  0  0  0  0  0  0  0  0  0  0  0  0  0  0  1\n",
       " 0  0  0  0  0  0  0  0  0  0  0  0  0  0  0  0  0  0  0  0  0  0  0  0  0  0\n",
       " 0  0  0  0  0  0  0  0  0  0  0  0  0  0  0  0  0  0  0  0  0  0  0  0  0  0\n",
       " 0  0  0  0  0  0  0  0  0  0  0  0  0  0  0  0  0  0  0  0  0  0  0  0  0  0\n",
       " 0  0  0  0  0  0  0  0  0  0  0  0  0  0  0  0  0  0  0  0  0  0  0  0  0  0\n",
       "\n",
       "Columns 27 to 30\n",
       " 0  0  0  0\n",
       " 0  0  0  0\n",
       " 0  0  0  0\n",
       " 0  0  0  0\n",
       " 0  0  0  0\n",
       " 0  0  0  0\n",
       " 0  0  0  0\n",
       " 0  0  0  0\n",
       " 0  0  0  0\n",
       " 0  0  0  0\n",
       " 0  0  0  0\n",
       " 0  0  0  0\n",
       " 0  0  0  0\n",
       " 0  0  0  0\n",
       " 0  0  0  0\n",
       " 0  0  0  0\n",
       " 0  0  0  0\n",
       " 0  0  0  0\n",
       " 0  0  0  0\n",
       " 0  0  0  0\n",
       " 0  0  0  0\n",
       " 0  0  0  0\n",
       " 0  0  0  0\n",
       " 0  0  0  0\n",
       " 0  0  0  0\n",
       " 0  0  0  0\n",
       " 1  0  0  0\n",
       " 0  1  0  0\n",
       " 0  0  1  0\n",
       " 0  0  0  1\n",
       "[torch.DoubleTensor of size 30x30]\n",
       "\n"
      ]
     },
     "execution_count": 1,
     "metadata": {},
     "output_type": "execute_result"
    }
   ],
   "source": [
    "local i = torch.Tensor(1).random(1,30)\n",
    "local a = OneHot(30)\n",
    "print(a:forward(torch.range(1,30)))"
   ]
  },
  {
   "cell_type": "code",
   "execution_count": null,
   "metadata": {
    "ExecuteTime": {
     "end_time": "2017-09-13T16:53:38",
     "start_time": "2017-09-13T14:53:38.208Z"
    },
    "collapsed": false
   },
   "outputs": [],
   "source": []
  },
  {
   "cell_type": "code",
   "execution_count": 91,
   "metadata": {
    "ExecuteTime": {
     "end_time": "2017-09-13T16:58:58",
     "start_time": "2017-09-13T14:58:58.177Z"
    },
    "collapsed": false
   },
   "outputs": [
    {
     "data": {
      "text/plain": [
       "  1\n",
       "  2\n",
       "  3\n",
       "  4\n",
       "  5\n",
       "  6\n",
       "  7\n",
       "  8\n",
       "  9\n",
       " 10\n",
       " 11\n",
       " 12\n",
       " 13\n",
       " 14\n",
       " 15\n",
       " 16\n",
       " 17\n",
       " 18\n",
       " 19\n",
       " 20\n",
       " 21\n",
       " 22\n",
       " 23\n",
       " 24\n",
       " 25\n",
       " 26\n",
       " 27\n",
       " 28\n",
       " 29\n",
       " 30\n",
       "[torch.DoubleTensor of size 30]\n",
       "\n"
      ]
     },
     "execution_count": 91,
     "metadata": {},
     "output_type": "execute_result"
    }
   ],
   "source": []
  },
  {
   "cell_type": "code",
   "execution_count": null,
   "metadata": {
    "ExecuteTime": {
     "end_time": "2017-09-13T16:40:00",
     "start_time": "2017-09-13T14:40:00.678Z"
    },
    "collapsed": false
   },
   "outputs": [],
   "source": []
  },
  {
   "cell_type": "code",
   "execution_count": null,
   "metadata": {
    "collapsed": true
   },
   "outputs": [],
   "source": []
  },
  {
   "cell_type": "markdown",
   "metadata": {},
   "source": [
    "# Scrap"
   ]
  },
  {
   "cell_type": "code",
   "execution_count": null,
   "metadata": {
    "collapsed": true
   },
   "outputs": [],
   "source": [
    "local t = torch.range(1,10)\n",
    "local p_net = nn.ParallelTable(1,1)\n",
    "p_net:add(OneHot)"
   ]
  },
  {
   "cell_type": "code",
   "execution_count": null,
   "metadata": {
    "collapsed": true
   },
   "outputs": [],
   "source": []
  },
  {
   "cell_type": "code",
   "execution_count": null,
   "metadata": {
    "collapsed": true
   },
   "outputs": [],
   "source": []
  }
 ],
 "metadata": {
  "anaconda-cloud": {},
  "kernelspec": {
   "display_name": "iTorch",
   "language": "lua",
   "name": "itorch"
  },
  "language_info": {
   "name": "lua",
   "version": "5.1"
  },
  "latex_envs": {
   "bibliofile": "biblio.bib",
   "cite_by": "apalike",
   "current_citInitial": 1,
   "eqLabelWithNumbers": true,
   "eqNumInitial": 0
  },
  "nav_menu": {},
  "toc": {
   "navigate_menu": true,
   "number_sections": true,
   "sideBar": true,
   "threshold": 6,
   "toc_cell": false,
   "toc_section_display": "block",
   "toc_window_display": false
  }
 },
 "nbformat": 4,
 "nbformat_minor": 1
}
