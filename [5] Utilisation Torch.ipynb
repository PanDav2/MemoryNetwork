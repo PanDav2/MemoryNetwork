{
 "cells": [
  {
   "cell_type": "markdown",
   "metadata": {},
   "source": [
    "# Test Implementation 1"
   ]
  },
  {
   "cell_type": "code",
   "execution_count": 2,
   "metadata": {
    "ExecuteTime": {
     "end_time": "2017-09-14T12:29:51",
     "start_time": "2017-09-14T10:29:51.726Z"
    },
    "collapsed": true
   },
   "outputs": [],
   "source": [
    "require 'nn';\n",
    "require 'nngraph';\n"
   ]
  },
  {
   "cell_type": "code",
   "execution_count": 7,
   "metadata": {
    "ExecuteTime": {
     "end_time": "2017-09-14T12:30:58",
     "start_time": "2017-09-14T10:30:58.801Z"
    },
    "collapsed": false
   },
   "outputs": [],
   "source": [
    "InferenceModule, parent = torch.class('InferenceModule','nn.Module')\n",
    "\n",
    "function InferenceModule:__init(voc_size, feature_dim)\n",
    "    parent.__init(self)\n",
    "    local inputs = {}\n",
    "    local outputs = {}\n",
    "    table.insert(inputs, nn.Identity()())\n",
    "    table.insert(inputs, nn.Identity()())\n",
    "    local lin1 = nn.Linear(voc_size,feature_dim)(inputs[1])\n",
    "    local lin2 = nn.Linear(voc_size,feature_dim)(inputs[2])\n",
    "    \n",
    "    table.insert(outputs,lin1)\n",
    "    table.insert(outputs,lin2)\n",
    "    self.mlp = nn.gModule(inputs, outputs) \n",
    "end\n",
    "\n",
    "function InferenceModule:updateOutput(input)\n",
    "    local ind = input[3] or 1\n",
    "    local input1 = input[1][ind]:clone()\n",
    "    local input2 = input[2]:clone()\n",
    "    local i4 = self.mlp:forward{input1,input2}\n",
    "    local ll = i4[2]:transpose(1,2)\n",
    "    local lll = i4[1]:reshape(1,90)\n",
    "    local glo = lll*ll\n",
    "    return glo\n",
    "end"
   ]
  },
  {
   "cell_type": "code",
   "execution_count": 9,
   "metadata": {
    "ExecuteTime": {
     "end_time": "2017-09-14T12:31:02",
     "start_time": "2017-09-14T10:31:01.996Z"
    },
    "collapsed": false
   },
   "outputs": [],
   "source": [
    "IM = InferenceModule.new(30,100)"
   ]
  },
  {
   "cell_type": "code",
   "execution_count": 13,
   "metadata": {
    "ExecuteTime": {
     "end_time": "2017-09-14T12:32:25",
     "start_time": "2017-09-14T10:32:25.680Z"
    },
    "collapsed": false
   },
   "outputs": [
    {
     "ename": "[string \"InferenceModule, parent = torch.class('Infere...\"]:23: inconsistent tensor size, expected tensor [1 x 90] and src [100] to have the same number of elements, but got 90 and 100 elements respectively at /Users/david/torch/pkg/torch/lib/TH/generic/THTensorCopy.c:86\nstack traceback:\n\t[C]: in function 'reshape'\n\t[string \"InferenceModule, parent = torch.class('Infere...\"]:23: in function 'forward'\n\t[string \"local t1 = torch.Tensor(10,30)...\"]:3: in main chunk\n\t[C]: in function 'xpcall'\n\t/Users/david/torch/install/share/lua/5.1/itorch/main.lua:210: in function </Users/david/torch/install/share/lua/5.1/itorch/main.lua:174>\n\t/Users/david/torch/install/share/lua/5.1/lzmq/poller.lua:80: in function 'poll'\n\t/Users/david/torch/install/share/lua/5.1/lzmq/impl/loop.lua:307: in function 'poll'\n\t/Users/david/torch/install/share/lua/5.1/lzmq/impl/loop.lua:325: in function 'sleep_ex'\n\t/Users/david/torch/install/share/lua/5.1/lzmq/impl/loop.lua:370: in function 'start'\n\t/Users/david/torch/install/share/lua/5.1/itorch/main.lua:389: in main chunk\n\t[C]: in function 'require'\n\t(command line):1: in main chunk\n\t[C]: at 0x01006d3a10",
     "evalue": "",
     "output_type": "error",
     "traceback": [
      "[string \"InferenceModule, parent = torch.class('Infere...\"]:23: inconsistent tensor size, expected tensor [1 x 90] and src [100] to have the same number of elements, but got 90 and 100 elements respectively at /Users/david/torch/pkg/torch/lib/TH/generic/THTensorCopy.c:86\nstack traceback:\n\t[C]: in function 'reshape'\n\t[string \"InferenceModule, parent = torch.class('Infere...\"]:23: in function 'forward'\n\t[string \"local t1 = torch.Tensor(10,30)...\"]:3: in main chunk\n\t[C]: in function 'xpcall'\n\t/Users/david/torch/install/share/lua/5.1/itorch/main.lua:210: in function </Users/david/torch/install/share/lua/5.1/itorch/main.lua:174>\n\t/Users/david/torch/install/share/lua/5.1/lzmq/poller.lua:80: in function 'poll'\n\t/Users/david/torch/install/share/lua/5.1/lzmq/impl/loop.lua:307: in function 'poll'\n\t/Users/david/torch/install/share/lua/5.1/lzmq/impl/loop.lua:325: in function 'sleep_ex'\n\t/Users/david/torch/install/share/lua/5.1/lzmq/impl/loop.lua:370: in function 'start'\n\t/Users/david/torch/install/share/lua/5.1/itorch/main.lua:389: in main chunk\n\t[C]: in function 'require'\n\t(command line):1: in main chunk\n\t[C]: at 0x01006d3a10"
     ]
    }
   ],
   "source": [
    "local t1 = torch.Tensor(10,30)\n",
    "local t2 = torch.Tensor(10,30)\n",
    "IM:forward{t1,t2}"
   ]
  },
  {
   "cell_type": "markdown",
   "metadata": {},
   "source": [
    "# Test implementation 2 "
   ]
  },
  {
   "cell_type": "code",
   "execution_count": 118,
   "metadata": {
    "ExecuteTime": {
     "end_time": "2017-09-14T13:55:48",
     "start_time": "2017-09-14T11:55:48.263Z"
    },
    "collapsed": false
   },
   "outputs": [],
   "source": []
  },
  {
   "cell_type": "code",
   "execution_count": 123,
   "metadata": {
    "ExecuteTime": {
     "end_time": "2017-09-14T13:56:32",
     "start_time": "2017-09-14T11:56:32.198Z"
    },
    "collapsed": false
   },
   "outputs": [
    {
     "data": {
      "text/plain": [
       " 100\n",
       " 100\n",
       "[torch.LongStorage of size 2]\n",
       "\n"
      ]
     },
     "execution_count": 123,
     "metadata": {},
     "output_type": "execute_result"
    }
   ],
   "source": [
    "local inf = InferenceGraph.create_module(30,100)\n",
    "local i = inf:forward{torch.Tensor(1,30),torch.Tensor(1,30)}\n",
    "print(i:size())\n"
   ]
  },
  {
   "cell_type": "code",
   "execution_count": 82,
   "metadata": {
    "ExecuteTime": {
     "end_time": "2017-09-14T13:27:44",
     "start_time": "2017-09-14T11:27:44.796Z"
    },
    "collapsed": false,
    "scrolled": false
   },
   "outputs": [
    {
     "data": {
      "text/plain": [
       "{\n",
       "  1 : DoubleTensor - size: 1x100\n",
       "  2 : DoubleTensor - size: 1x100\n",
       "}\n",
       " 100\n",
       "  30\n",
       "[torch.LongStorage of size 2]\n",
       "\n",
       "  30\n",
       " 100\n",
       "[torch.LongStorage of size 2]\n",
       "\n"
      ]
     },
     "execution_count": 82,
     "metadata": {},
     "output_type": "execute_result"
    }
   ],
   "source": []
  },
  {
   "cell_type": "code",
   "execution_count": null,
   "metadata": {
    "ExecuteTime": {
     "end_time": "2017-09-14T12:52:13",
     "start_time": "2017-09-14T10:52:13.893Z"
    },
    "collapsed": false
   },
   "outputs": [],
   "source": []
  },
  {
   "cell_type": "code",
   "execution_count": null,
   "metadata": {
    "collapsed": true
   },
   "outputs": [],
   "source": []
  },
  {
   "cell_type": "code",
   "execution_count": null,
   "metadata": {
    "collapsed": true
   },
   "outputs": [],
   "source": []
  }
 ],
 "metadata": {
  "kernelspec": {
   "display_name": "iTorch",
   "language": "lua",
   "name": "itorch"
  },
  "language_info": {
   "name": "lua",
   "version": "5.1"
  },
  "latex_envs": {
   "bibliofile": "biblio.bib",
   "cite_by": "apalike",
   "current_citInitial": 1,
   "eqLabelWithNumbers": true,
   "eqNumInitial": 0
  },
  "nav_menu": {},
  "toc": {
   "navigate_menu": true,
   "number_sections": true,
   "sideBar": true,
   "threshold": 6,
   "toc_cell": false,
   "toc_section_display": "block",
   "toc_window_display": false
  }
 },
 "nbformat": 4,
 "nbformat_minor": 1
}
