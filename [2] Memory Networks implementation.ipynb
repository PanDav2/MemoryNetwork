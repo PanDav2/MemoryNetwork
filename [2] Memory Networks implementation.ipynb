{
 "cells": [
  {
   "cell_type": "markdown",
   "metadata": {
    "toc": "true"
   },
   "source": [
    "# Table of Contents\n",
    " <p><div class=\"lev1 toc-item\"><a href=\"#Implementation-of-memory-networks\" data-toc-modified-id=\"Implementation-of-memory-networks-1\"><span class=\"toc-item-num\">1&nbsp;&nbsp;</span>Implementation of memory networks</a></div><div class=\"lev2 toc-item\"><a href=\"#I-Module\" data-toc-modified-id=\"I-Module-1.1\"><span class=\"toc-item-num\">1.1&nbsp;&nbsp;</span>I Module</a></div><div class=\"lev1 toc-item\"><a href=\"#Building-the-Memory-Network\" data-toc-modified-id=\"Building-the-Memory-Network-2\"><span class=\"toc-item-num\">2&nbsp;&nbsp;</span>Building the Memory Network</a></div><div class=\"lev2 toc-item\"><a href=\"#Parametrization\" data-toc-modified-id=\"Parametrization-2.1\"><span class=\"toc-item-num\">2.1&nbsp;&nbsp;</span>Parametrization</a></div><div class=\"lev2 toc-item\"><a href=\"#Network-implementation\" data-toc-modified-id=\"Network-implementation-2.2\"><span class=\"toc-item-num\">2.2&nbsp;&nbsp;</span>Network implementation</a></div><div class=\"lev1 toc-item\"><a href=\"#Memory-module\" data-toc-modified-id=\"Memory-module-3\"><span class=\"toc-item-num\">3&nbsp;&nbsp;</span>Memory module</a></div><div class=\"lev2 toc-item\"><a href=\"#Memory-module-testing\" data-toc-modified-id=\"Memory-module-testing-3.1\"><span class=\"toc-item-num\">3.1&nbsp;&nbsp;</span>Memory module testing</a></div><div class=\"lev1 toc-item\"><a href=\"#Inference-module\" data-toc-modified-id=\"Inference-module-4\"><span class=\"toc-item-num\">4&nbsp;&nbsp;</span>Inference module</a></div><div class=\"lev2 toc-item\"><a href=\"#Inference-module-testing\" data-toc-modified-id=\"Inference-module-testing-4.1\"><span class=\"toc-item-num\">4.1&nbsp;&nbsp;</span>Inference module testing</a></div><div class=\"lev1 toc-item\"><a href=\"#Learning-algorithm\" data-toc-modified-id=\"Learning-algorithm-5\"><span class=\"toc-item-num\">5&nbsp;&nbsp;</span>Learning algorithm</a></div><div class=\"lev2 toc-item\"><a href=\"#Margin-Ranking-Loss-criterion\" data-toc-modified-id=\"Margin-Ranking-Loss-criterion-5.1\"><span class=\"toc-item-num\">5.1&nbsp;&nbsp;</span>Margin Ranking Loss criterion</a></div><div class=\"lev2 toc-item\"><a href=\"#MR-test\" data-toc-modified-id=\"MR-test-5.2\"><span class=\"toc-item-num\">5.2&nbsp;&nbsp;</span>MR test</a></div><div class=\"lev2 toc-item\"><a href=\"#Visualizing-the-implemented-network\" data-toc-modified-id=\"Visualizing-the-implemented-network-5.3\"><span class=\"toc-item-num\">5.3&nbsp;&nbsp;</span>Visualizing the implemented network</a></div><div class=\"lev1 toc-item\"><a href=\"#Testing-the-Memory-Network\" data-toc-modified-id=\"Testing-the-Memory-Network-6\"><span class=\"toc-item-num\">6&nbsp;&nbsp;</span>Testing the Memory Network</a></div><div class=\"lev1 toc-item\"><a href=\"#Scrap\" data-toc-modified-id=\"Scrap-7\"><span class=\"toc-item-num\">7&nbsp;&nbsp;</span>Scrap</a></div><div class=\"lev2 toc-item\"><a href=\"#Copying-a-clone-to-put-it-in-a-memory\" data-toc-modified-id=\"Copying-a-clone-to-put-it-in-a-memory-7.1\"><span class=\"toc-item-num\">7.1&nbsp;&nbsp;</span>Copying a clone to put it in a memory</a></div><div class=\"lev2 toc-item\"><a href=\"#Multiplying-tensors\" data-toc-modified-id=\"Multiplying-tensors-7.2\"><span class=\"toc-item-num\">7.2&nbsp;&nbsp;</span>Multiplying tensors</a></div><div class=\"lev1 toc-item\"><a href=\"#Scrap\" data-toc-modified-id=\"Scrap-8\"><span class=\"toc-item-num\">8&nbsp;&nbsp;</span>Scrap</a></div><div class=\"lev1 toc-item\"><a href=\"#Scrap-on-nnGraph-operations\" data-toc-modified-id=\"Scrap-on-nnGraph-operations-9\"><span class=\"toc-item-num\">9&nbsp;&nbsp;</span>Scrap on nnGraph operations</a></div>"
   ]
  },
  {
   "cell_type": "code",
   "execution_count": 12,
   "metadata": {
    "ExecuteTime": {
     "end_time": "2017-09-12T18:02:32",
     "start_time": "2017-09-12T16:02:32.510Z"
    },
    "collapsed": true
   },
   "outputs": [],
   "source": [
    "require 'nn';\n",
    "require 'nngraph';\n",
    "require 'utils.OneHot'"
   ]
  },
  {
   "cell_type": "markdown",
   "metadata": {},
   "source": [
    "# Implementation of memory networks"
   ]
  },
  {
   "cell_type": "markdown",
   "metadata": {},
   "source": [
    "Memory network is a sequence of 4 modules that allows better memory addressing for tasks such as Question Answering"
   ]
  },
  {
   "cell_type": "markdown",
   "metadata": {},
   "source": [
    "## I Module"
   ]
  },
  {
   "cell_type": "markdown",
   "metadata": {},
   "source": [
    "**input feature map** – converts the incoming input to the internal feature representation\n",
    "\n",
    "\n",
    "---\n",
    "\n",
    "OneHot Vectorization and word2vec"
   ]
  },
  {
   "cell_type": "markdown",
   "metadata": {},
   "source": [
    "# Building the Memory Network"
   ]
  },
  {
   "cell_type": "markdown",
   "metadata": {},
   "source": [
    "Check out the files !"
   ]
  },
  {
   "cell_type": "markdown",
   "metadata": {},
   "source": [
    "## Parametrization"
   ]
  },
  {
   "cell_type": "code",
   "execution_count": 13,
   "metadata": {
    "ExecuteTime": {
     "end_time": "2017-09-12T18:02:34",
     "start_time": "2017-09-12T16:02:34.377Z"
    },
    "collapsed": true
   },
   "outputs": [],
   "source": [
    "SEQ_LENGTH = 5\n",
    "VOCAB_SIZE = 30\n",
    "MEM_SIZE = 3\n",
    "NUM_MEM = 2\n",
    "FEATURE_SIZE = 50"
   ]
  },
  {
   "cell_type": "markdown",
   "metadata": {},
   "source": [
    "## Network implementation"
   ]
  },
  {
   "cell_type": "code",
   "execution_count": 14,
   "metadata": {
    "ExecuteTime": {
     "end_time": "2017-09-12T18:02:34",
     "start_time": "2017-09-12T16:02:34.559Z"
    },
    "collapsed": true
   },
   "outputs": [],
   "source": [
    "function create_network(SEQ_LENGTH,VOCAB_SIZE,MEM_SIZE,NUM_MEM)\n",
    "    ------------------ Initialization -------------------\n",
    "    SEQ_LENGTH = SEQ_LENGTH or 5\n",
    "    MEM_SIZE = MEM_SIZE or 3\n",
    "    NUM_MEM = NUM_MEM or 2\n",
    "    VOCAB_SIZE = VOCAB_SIZE or 30\n",
    "    ------------------ I Module -------------------\n",
    "    local mem_net = nn.Sequential()\n",
    "    local branch_net = nn.ConcatTable()\n",
    "    local mlp = nn.Sequential()\n",
    "    local net = nn.Parallel(1,1)\n",
    "    for i=1,SEQ_LENGTH do\n",
    "        net:add(OneHot(VOCAB_SIZE))\n",
    "    end\n",
    "    mlp:add(net)    \n",
    "    ------------------ G Module -------------------    \n",
    "    -- m = MemoryModule.new(NUM_MEM,MEM_SIZE,VOCAB_SIZE)\n",
    "    local g_mod = MemoryModule.new(NUM_MEM,MEM_SIZE,VOCAB_SIZE)\n",
    "    mlp:add(g_mod)\n",
    "    ------------------ O Module -------------------    \n",
    "    local o_mod = InferenceModule.new(VOCAB_SIZE,3*VOCAB_SIZE)\n",
    "    branch_net:add(mlp)\n",
    "    branch_net:add(nn.Identity())\n",
    "    mem_net:add(branch_net)\n",
    "    mem_net:add(o_mod)\n",
    "    --[[\n",
    "    ------------------ R Module -------------------\n",
    "    table.insert(outputs,o_mod)\n",
    "    ]]\n",
    "    return mem_net\n",
    "end "
   ]
  },
  {
   "cell_type": "code",
   "execution_count": 15,
   "metadata": {
    "ExecuteTime": {
     "end_time": "2017-09-12T18:02:34",
     "start_time": "2017-09-12T16:02:34.564Z"
    },
    "collapsed": false
   },
   "outputs": [
    {
     "ename": "[string \"function create_network(SEQ_LENGTH,VOCAB_SIZE...\"]:18: attempt to index global 'MemoryModule' (a nil value)\nstack traceback:\n\t[string \"function create_network(SEQ_LENGTH,VOCAB_SIZE...\"]:18: in function 'create_network'\n\t[string \"local mlp = create_network()...\"]:1: in main chunk\n\t[C]: in function 'xpcall'\n\t/Users/david/torch/install/share/lua/5.1/itorch/main.lua:210: in function </Users/david/torch/install/share/lua/5.1/itorch/main.lua:174>\n\t/Users/david/torch/install/share/lua/5.1/lzmq/poller.lua:80: in function 'poll'\n\t/Users/david/torch/install/share/lua/5.1/lzmq/impl/loop.lua:307: in function 'poll'\n\t/Users/david/torch/install/share/lua/5.1/lzmq/impl/loop.lua:325: in function 'sleep_ex'\n\t/Users/david/torch/install/share/lua/5.1/lzmq/impl/loop.lua:370: in function 'start'\n\t/Users/david/torch/install/share/lua/5.1/itorch/main.lua:389: in main chunk\n\t[C]: in function 'require'\n\t(command line):1: in main chunk\n\t[C]: at 0x0101977a10",
     "evalue": "",
     "output_type": "error",
     "traceback": [
      "[string \"function create_network(SEQ_LENGTH,VOCAB_SIZE...\"]:18: attempt to index global 'MemoryModule' (a nil value)\nstack traceback:\n\t[string \"function create_network(SEQ_LENGTH,VOCAB_SIZE...\"]:18: in function 'create_network'\n\t[string \"local mlp = create_network()...\"]:1: in main chunk\n\t[C]: in function 'xpcall'\n\t/Users/david/torch/install/share/lua/5.1/itorch/main.lua:210: in function </Users/david/torch/install/share/lua/5.1/itorch/main.lua:174>\n\t/Users/david/torch/install/share/lua/5.1/lzmq/poller.lua:80: in function 'poll'\n\t/Users/david/torch/install/share/lua/5.1/lzmq/impl/loop.lua:307: in function 'poll'\n\t/Users/david/torch/install/share/lua/5.1/lzmq/impl/loop.lua:325: in function 'sleep_ex'\n\t/Users/david/torch/install/share/lua/5.1/lzmq/impl/loop.lua:370: in function 'start'\n\t/Users/david/torch/install/share/lua/5.1/itorch/main.lua:389: in main chunk\n\t[C]: in function 'require'\n\t(command line):1: in main chunk\n\t[C]: at 0x0101977a10"
     ]
    }
   ],
   "source": [
    "local mlp = create_network()\n",
    "--print(mlp)"
   ]
  },
  {
   "cell_type": "code",
   "execution_count": 16,
   "metadata": {
    "ExecuteTime": {
     "end_time": "2017-09-12T18:02:34",
     "start_time": "2017-09-12T16:02:34.568Z"
    },
    "collapsed": false
   },
   "outputs": [
    {
     "ename": "[string \"function create_network(SEQ_LENGTH,VOCAB_SIZE...\"]:18: attempt to index global 'MemoryModule' (a nil value)\nstack traceback:\n\t[string \"function create_network(SEQ_LENGTH,VOCAB_SIZE...\"]:18: in function 'create_network'\n\t[string \"local mlp = create_network()...\"]:1: in main chunk\n\t[C]: in function 'xpcall'\n\t/Users/david/torch/install/share/lua/5.1/itorch/main.lua:210: in function </Users/david/torch/install/share/lua/5.1/itorch/main.lua:174>\n\t/Users/david/torch/install/share/lua/5.1/lzmq/poller.lua:80: in function 'poll'\n\t/Users/david/torch/install/share/lua/5.1/lzmq/impl/loop.lua:307: in function 'poll'\n\t/Users/david/torch/install/share/lua/5.1/lzmq/impl/loop.lua:325: in function 'sleep_ex'\n\t/Users/david/torch/install/share/lua/5.1/lzmq/impl/loop.lua:370: in function 'start'\n\t/Users/david/torch/install/share/lua/5.1/itorch/main.lua:389: in main chunk\n\t[C]: in function 'require'\n\t(command line):1: in main chunk\n\t[C]: at 0x0101977a10",
     "evalue": "",
     "output_type": "error",
     "traceback": [
      "[string \"function create_network(SEQ_LENGTH,VOCAB_SIZE...\"]:18: attempt to index global 'MemoryModule' (a nil value)\nstack traceback:\n\t[string \"function create_network(SEQ_LENGTH,VOCAB_SIZE...\"]:18: in function 'create_network'\n\t[string \"local mlp = create_network()...\"]:1: in main chunk\n\t[C]: in function 'xpcall'\n\t/Users/david/torch/install/share/lua/5.1/itorch/main.lua:210: in function </Users/david/torch/install/share/lua/5.1/itorch/main.lua:174>\n\t/Users/david/torch/install/share/lua/5.1/lzmq/poller.lua:80: in function 'poll'\n\t/Users/david/torch/install/share/lua/5.1/lzmq/impl/loop.lua:307: in function 'poll'\n\t/Users/david/torch/install/share/lua/5.1/lzmq/impl/loop.lua:325: in function 'sleep_ex'\n\t/Users/david/torch/install/share/lua/5.1/lzmq/impl/loop.lua:370: in function 'start'\n\t/Users/david/torch/install/share/lua/5.1/itorch/main.lua:389: in main chunk\n\t[C]: in function 'require'\n\t(command line):1: in main chunk\n\t[C]: at 0x0101977a10"
     ]
    }
   ],
   "source": [
    "local mlp = create_network()\n",
    "local res = mlp:forward(torch.Tensor(5,30):fill(1))\n",
    "print('-----')\n",
    "print(res)"
   ]
  },
  {
   "cell_type": "markdown",
   "metadata": {
    "ExecuteTime": {
     "end_time": "2017-08-28T16:49:19",
     "start_time": "2017-08-28T14:49:19.584Z"
    }
   },
   "source": [
    "# Memory module"
   ]
  },
  {
   "cell_type": "code",
   "execution_count": 17,
   "metadata": {
    "ExecuteTime": {
     "end_time": "2017-09-12T18:02:34",
     "start_time": "2017-09-12T16:02:34.738Z"
    },
    "collapsed": false
   },
   "outputs": [
    {
     "ename": "[string \"MemoryModule, parent = torch.class('MemoryMod...\"]:15: '=' expected near 'local'",
     "evalue": "",
     "output_type": "error",
     "traceback": [
      "[string \"MemoryModule, parent = torch.class('MemoryMod...\"]:15: '=' expected near 'local'"
     ]
    }
   ],
   "source": [
    "MemoryModule, parent = torch.class('MemoryModule','nn.Module')\n",
    "\n",
    "function MemoryModule:__init(NUM_MEM,MEM_SIZE,VOCAB_SIZE)\n",
    "    parent.__init(self)\n",
    "    self.num_mem = NUM_MEM\n",
    "    self.mem_size = MEM_SIZE\n",
    "    self.memory = {}\n",
    "    for i=1,NUM_MEM do table.insert(self.memory,torch.Tensor(MEM_SIZE,VOCAB_SIZE):fill(0)) end\n",
    "end\n",
    "\n",
    "function MemoryModule:updateOutput(input)\n",
    "    -- Replace the index memory with the input it as received\n",
    "    assert(input:size(2) == self.memory[1]:size(2), \"input size and memory size are differents\")\n",
    "    local input = input:clone()dd\n",
    "    local loaded_mem = 0\n",
    "    for i=1,#self.memory do\n",
    "       for j=1,self.mem_size do\n",
    "            if j + loaded_mem > input:size(1) then\n",
    "                break\n",
    "            end\n",
    "            self.memory[i][{j}] = input[{j + loaded_mem,{}}]\n",
    "        end\n",
    "        loaded_mem = loaded_mem + self.mem_size\n",
    "    end\n",
    "    return self.memory\n",
    "end\n",
    "\n",
    "function MemoryModule:getIndex(index)\n",
    "    return self.memory[index]\n",
    "end\n",
    "\n",
    "function MemoryModule:getMemorySize()\n",
    "    return #self.memory\n",
    "end\n",
    "\n",
    "function MemoryModule:getMemory()\n",
    "    return nn.JoinTable(1):forward(mem)\n",
    "end"
   ]
  },
  {
   "cell_type": "markdown",
   "metadata": {},
   "source": [
    "## Memory module testing"
   ]
  },
  {
   "cell_type": "code",
   "execution_count": 18,
   "metadata": {
    "ExecuteTime": {
     "end_time": "2017-09-12T18:02:34",
     "start_time": "2017-09-12T16:02:34.905Z"
    },
    "collapsed": false,
    "run_control": {
     "marked": false
    }
   },
   "outputs": [
    {
     "ename": "[string \"m = MemoryModule.new(NUM_MEM,MEM_SIZE,VOCAB_S...\"]:1: attempt to index global 'MemoryModule' (a nil value)\nstack traceback:\n\t[string \"m = MemoryModule.new(NUM_MEM,MEM_SIZE,VOCAB_S...\"]:1: in main chunk\n\t[C]: in function 'xpcall'\n\t/Users/david/torch/install/share/lua/5.1/itorch/main.lua:210: in function </Users/david/torch/install/share/lua/5.1/itorch/main.lua:174>\n\t/Users/david/torch/install/share/lua/5.1/lzmq/poller.lua:80: in function 'poll'\n\t/Users/david/torch/install/share/lua/5.1/lzmq/impl/loop.lua:307: in function 'poll'\n\t/Users/david/torch/install/share/lua/5.1/lzmq/impl/loop.lua:325: in function 'sleep_ex'\n\t/Users/david/torch/install/share/lua/5.1/lzmq/impl/loop.lua:370: in function 'start'\n\t/Users/david/torch/install/share/lua/5.1/itorch/main.lua:389: in main chunk\n\t[C]: in function 'require'\n\t(command line):1: in main chunk\n\t[C]: at 0x0101977a10",
     "evalue": "",
     "output_type": "error",
     "traceback": [
      "[string \"m = MemoryModule.new(NUM_MEM,MEM_SIZE,VOCAB_S...\"]:1: attempt to index global 'MemoryModule' (a nil value)\nstack traceback:\n\t[string \"m = MemoryModule.new(NUM_MEM,MEM_SIZE,VOCAB_S...\"]:1: in main chunk\n\t[C]: in function 'xpcall'\n\t/Users/david/torch/install/share/lua/5.1/itorch/main.lua:210: in function </Users/david/torch/install/share/lua/5.1/itorch/main.lua:174>\n\t/Users/david/torch/install/share/lua/5.1/lzmq/poller.lua:80: in function 'poll'\n\t/Users/david/torch/install/share/lua/5.1/lzmq/impl/loop.lua:307: in function 'poll'\n\t/Users/david/torch/install/share/lua/5.1/lzmq/impl/loop.lua:325: in function 'sleep_ex'\n\t/Users/david/torch/install/share/lua/5.1/lzmq/impl/loop.lua:370: in function 'start'\n\t/Users/david/torch/install/share/lua/5.1/itorch/main.lua:389: in main chunk\n\t[C]: in function 'require'\n\t(command line):1: in main chunk\n\t[C]: at 0x0101977a10"
     ]
    }
   ],
   "source": [
    "m = MemoryModule.new(NUM_MEM,MEM_SIZE,VOCAB_SIZE)\n",
    "mem = m:forward(r)"
   ]
  },
  {
   "cell_type": "markdown",
   "metadata": {
    "ExecuteTime": {
     "end_time": "2017-08-29T10:53:10",
     "start_time": "2017-08-29T08:53:10.296Z"
    }
   },
   "source": [
    "# Inference module"
   ]
  },
  {
   "cell_type": "code",
   "execution_count": 19,
   "metadata": {
    "ExecuteTime": {
     "end_time": "2017-09-12T18:02:35",
     "start_time": "2017-09-12T16:02:35.095Z"
    },
    "collapsed": true
   },
   "outputs": [],
   "source": [
    "InferenceModule, parent = torch.class('InferenceModule','nn.Module')\n",
    "\n",
    "function InferenceModule:__init(voc_size, feature_dim)\n",
    "    parent.__init(self)\n",
    "    local inputs = {}\n",
    "    local outputs = {}\n",
    "    table.insert(inputs, nn.Identity()())\n",
    "    table.insert(inputs, nn.Identity()())\n",
    "    -----  \n",
    "    local lin1 = nn.Linear(voc_size,feature_dim)(inputs[1])\n",
    "    local lin2 = nn.Linear(voc_size,feature_dim)(inputs[2])\n",
    "    table.insert(outputs,lin1)\n",
    "    table.insert(outputs,lin2)\n",
    "    self.mlp = nn.gModule(inputs, outputs) \n",
    "end\n",
    "\n",
    "function InferenceModule:updateOutput(input)\n",
    "    local ind = input[3] or 1\n",
    "    local input1 = input[1][ind]:clone()\n",
    "    local input2 = input[2]:clone()\n",
    "    local i4 = self.mlp:forward{input1,input2}\n",
    "    local ll = i4[2]:transpose(1,2)\n",
    "    local lll = i4[1]:reshape(1,90)\n",
    "    local glo = lll*ll\n",
    "    return glo\n",
    "end"
   ]
  },
  {
   "cell_type": "markdown",
   "metadata": {
    "ExecuteTime": {
     "end_time": "2017-08-29T11:30:33",
     "start_time": "2017-08-29T09:30:33.843Z"
    }
   },
   "source": [
    "## Inference module testing"
   ]
  },
  {
   "cell_type": "code",
   "execution_count": 20,
   "metadata": {
    "ExecuteTime": {
     "end_time": "2017-09-12T18:02:35",
     "start_time": "2017-09-12T16:02:35.271Z"
    },
    "collapsed": false
   },
   "outputs": [],
   "source": [
    "infer = InferenceModule.new(30,3*30)"
   ]
  },
  {
   "cell_type": "code",
   "execution_count": 21,
   "metadata": {
    "ExecuteTime": {
     "end_time": "2017-09-12T18:02:35",
     "start_time": "2017-09-12T16:02:35.275Z"
    },
    "collapsed": true
   },
   "outputs": [],
   "source": [
    "i = torch.Tensor(3,30)\n",
    "ii = torch.Tensor(40,30)\n",
    "iii = {i,ii,2}"
   ]
  },
  {
   "cell_type": "code",
   "execution_count": 22,
   "metadata": {
    "ExecuteTime": {
     "end_time": "2017-09-12T18:02:35",
     "start_time": "2017-09-12T16:02:35.278Z"
    },
    "collapsed": false
   },
   "outputs": [
    {
     "data": {
      "text/plain": [
       "  1\n",
       " 40\n",
       "[torch.LongStorage of size 2]\n",
       "\n"
      ]
     },
     "execution_count": 22,
     "metadata": {},
     "output_type": "execute_result"
    }
   ],
   "source": [
    "local i4 = infer:forward(iii)\n",
    "print(i4:size())"
   ]
  },
  {
   "cell_type": "markdown",
   "metadata": {
    "ExecuteTime": {
     "end_time": "2017-08-30T12:05:43",
     "start_time": "2017-08-30T10:05:43.286Z"
    },
    "collapsed": false
   },
   "source": [
    "# Learning algorithm"
   ]
  },
  {
   "cell_type": "markdown",
   "metadata": {},
   "source": [
    "## Margin Ranking Loss criterion"
   ]
  },
  {
   "cell_type": "markdown",
   "metadata": {},
   "source": [
    "Memory Networks training is based on Stochastic Gradient Descent and [Margin Ranking](https://github.com/torch/nn/blob/master/doc/criterion.md#nn.MarginRankingCriterion) Loss that is already implemented in torch"
   ]
  },
  {
   "cell_type": "code",
   "execution_count": null,
   "metadata": {
    "collapsed": true
   },
   "outputs": [],
   "source": []
  },
  {
   "cell_type": "markdown",
   "metadata": {},
   "source": [
    "## MR test"
   ]
  },
  {
   "cell_type": "code",
   "execution_count": 23,
   "metadata": {
    "ExecuteTime": {
     "end_time": "2017-09-12T18:02:35",
     "start_time": "2017-09-12T16:02:35.991Z"
    },
    "collapsed": false
   },
   "outputs": [],
   "source": [
    "p1_mlp = nn.Linear(5, 2)\n",
    "p2_mlp = p1_mlp:clone('weight', 'bias')"
   ]
  },
  {
   "cell_type": "code",
   "execution_count": 24,
   "metadata": {
    "ExecuteTime": {
     "end_time": "2017-09-12T18:02:36",
     "start_time": "2017-09-12T16:02:35.998Z"
    },
    "collapsed": false
   },
   "outputs": [
    {
     "data": {
      "text/plain": [
       "-1.650799643086\t-0.92558171671693\t0.82521792636903\t\n"
      ]
     },
     "execution_count": 24,
     "metadata": {},
     "output_type": "execute_result"
    },
    {
     "data": {
      "text/plain": [
       "-0.95185261710874\t-1.5466936286653\t0\t\n",
       "-0.95185261710874\t-1.5466936286653\t0\t\n",
       "-0.95185261710874\t-1.5466936286653\t0\t\n"
      ]
     },
     "execution_count": 24,
     "metadata": {},
     "output_type": "execute_result"
    },
    {
     "data": {
      "text/plain": [
       "-0.95185261710874\t-1.5466936286653\t0\t\n",
       "-0.95185261710874\t-1.5466936286653\t0\t\n"
      ]
     },
     "execution_count": 24,
     "metadata": {},
     "output_type": "execute_result"
    },
    {
     "data": {
      "text/plain": [
       "-0.95185261710874\t-1.5466936286653\t0\t\n",
       "-0.95185261710874\t-1.5466936286653\t0\t\n",
       "-0.95185261710874\t-1.5466936286653\t0\t\n"
      ]
     },
     "execution_count": 24,
     "metadata": {},
     "output_type": "execute_result"
    },
    {
     "data": {
      "text/plain": [
       "-0.95185261710874\t-1.5466936286653\t0\t\n",
       "-0.95185261710874\t-1.5466936286653\t0\t\n"
      ]
     },
     "execution_count": 24,
     "metadata": {},
     "output_type": "execute_result"
    },
    {
     "data": {
      "text/plain": [
       "-0.95185261710874\t-1.5466936286653\t0\t\n"
      ]
     },
     "execution_count": 24,
     "metadata": {},
     "output_type": "execute_result"
    },
    {
     "data": {
      "text/plain": [
       "-0.95185261710874\t-1.5466936286653\t0\t\n",
       "-0.95185261710874\t-1.5466936286653\t0\t\n"
      ]
     },
     "execution_count": 24,
     "metadata": {},
     "output_type": "execute_result"
    },
    {
     "data": {
      "text/plain": [
       "-0.95185261710874\t-1.5466936286653\t0\t\n"
      ]
     },
     "execution_count": 24,
     "metadata": {},
     "output_type": "execute_result"
    },
    {
     "data": {
      "text/plain": [
       "-0.95185261710874\t-1.5466936286653\t0\t\n",
       "-0.95185261710874\t-1.5466936286653\t0\t\n"
      ]
     },
     "execution_count": 24,
     "metadata": {},
     "output_type": "execute_result"
    },
    {
     "data": {
      "text/plain": [
       "-0.95185261710874\t-1.5466936286653\t0\t\n"
      ]
     },
     "execution_count": 24,
     "metadata": {},
     "output_type": "execute_result"
    },
    {
     "data": {
      "text/plain": [
       "-0.95185261710874\t-1.5466936286653\t0\t\n",
       "-0.95185261710874\t-1.5466936286653\t0\t\n"
      ]
     },
     "execution_count": 24,
     "metadata": {},
     "output_type": "execute_result"
    },
    {
     "data": {
      "text/plain": [
       "-0.95185261710874\t-1.5466936286653\t0\t\n",
       "-0.95185261710874\t-1.5466936286653\t0\t\n"
      ]
     },
     "execution_count": 24,
     "metadata": {},
     "output_type": "execute_result"
    },
    {
     "data": {
      "text/plain": [
       "-0.95185261710874\t-1.5466936286653\t0\t\n",
       "-0.95185261710874\t-1.5466936286653\t0\t\n"
      ]
     },
     "execution_count": 24,
     "metadata": {},
     "output_type": "execute_result"
    },
    {
     "data": {
      "text/plain": [
       "-0.95185261710874\t-1.5466936286653\t0\t\n",
       "-0.95185261710874\t-1.5466936286653\t0\t\n"
      ]
     },
     "execution_count": 24,
     "metadata": {},
     "output_type": "execute_result"
    },
    {
     "data": {
      "text/plain": [
       "-0.95185261710874\t-1.5466936286653\t0\t\n",
       "-0.95185261710874\t-1.5466936286653\t0\t\n"
      ]
     },
     "execution_count": 24,
     "metadata": {},
     "output_type": "execute_result"
    },
    {
     "data": {
      "text/plain": [
       "-0.95185261710874\t-1.5466936286653\t0\t\n",
       "-0.95185261710874\t-1.5466936286653\t0\t\n"
      ]
     },
     "execution_count": 24,
     "metadata": {},
     "output_type": "execute_result"
    },
    {
     "data": {
      "text/plain": [
       "-0.95185261710874\t-1.5466936286653\t0\t\n",
       "-0.95185261710874\t-1.5466936286653\t0\t\n"
      ]
     },
     "execution_count": 24,
     "metadata": {},
     "output_type": "execute_result"
    },
    {
     "data": {
      "text/plain": [
       "-0.95185261710874\t-1.5466936286653\t0\t\n"
      ]
     },
     "execution_count": 24,
     "metadata": {},
     "output_type": "execute_result"
    },
    {
     "data": {
      "text/plain": [
       "-0.95185261710874\t-1.5466936286653\t0\t\n",
       "-0.95185261710874\t-1.5466936286653\t0\t\n"
      ]
     },
     "execution_count": 24,
     "metadata": {},
     "output_type": "execute_result"
    },
    {
     "data": {
      "text/plain": [
       "-0.95185261710874\t-1.5466936286653\t0\t\n",
       "-0.95185261710874\t-1.5466936286653\t0\t\n"
      ]
     },
     "execution_count": 24,
     "metadata": {},
     "output_type": "execute_result"
    },
    {
     "data": {
      "text/plain": [
       "-0.95185261710874\t-1.5466936286653\t0\t\n",
       "-0.95185261710874\t-1.5466936286653\t0\t\n"
      ]
     },
     "execution_count": 24,
     "metadata": {},
     "output_type": "execute_result"
    },
    {
     "data": {
      "text/plain": [
       "-0.95185261710874\t-1.5466936286653\t0\t\n",
       "-0.95185261710874\t-1.5466936286653\t0\t\n",
       "-0.95185261710874\t-1.5466936286653\t0\t\n"
      ]
     },
     "execution_count": 24,
     "metadata": {},
     "output_type": "execute_result"
    },
    {
     "data": {
      "text/plain": [
       "-0.95185261710874\t-1.5466936286653\t0\t\n",
       "-0.95185261710874\t-1.5466936286653\t0\t\n",
       "-0.95185261710874\t-1.5466936286653\t0\t\n"
      ]
     },
     "execution_count": 24,
     "metadata": {},
     "output_type": "execute_result"
    },
    {
     "data": {
      "text/plain": [
       "-0.95185261710874\t-1.5466936286653\t0\t\n",
       "-0.95185261710874\t-1.5466936286653\t0\t\n",
       "-0.95185261710874\t-1.5466936286653\t0\t\n"
      ]
     },
     "execution_count": 24,
     "metadata": {},
     "output_type": "execute_result"
    },
    {
     "data": {
      "text/plain": [
       "-0.95185261710874\t-1.5466936286653\t0\t\n",
       "-0.95185261710874\t-1.5466936286653\t0\t\n",
       "-0.95185261710874\t-1.5466936286653\t0\t\n"
      ]
     },
     "execution_count": 24,
     "metadata": {},
     "output_type": "execute_result"
    },
    {
     "data": {
      "text/plain": [
       "-0.95185261710874\t-1.5466936286653\t0\t\n",
       "-0.95185261710874\t-1.5466936286653\t0\t\n"
      ]
     },
     "execution_count": 24,
     "metadata": {},
     "output_type": "execute_result"
    },
    {
     "data": {
      "text/plain": [
       "-0.95185261710874\t-1.5466936286653\t0\t\n"
      ]
     },
     "execution_count": 24,
     "metadata": {},
     "output_type": "execute_result"
    },
    {
     "data": {
      "text/plain": [
       "-0.95185261710874\t-1.5466936286653\t0\t\n"
      ]
     },
     "execution_count": 24,
     "metadata": {},
     "output_type": "execute_result"
    },
    {
     "data": {
      "text/plain": [
       "-0.95185261710874\t-1.5466936286653\t0\t\n"
      ]
     },
     "execution_count": 24,
     "metadata": {},
     "output_type": "execute_result"
    },
    {
     "data": {
      "text/plain": [
       "-0.95185261710874\t-1.5466936286653\t0\t\n",
       "-0.95185261710874\t-1.5466936286653\t0\t\n"
      ]
     },
     "execution_count": 24,
     "metadata": {},
     "output_type": "execute_result"
    },
    {
     "data": {
      "text/plain": [
       "-0.95185261710874\t-1.5466936286653\t0\t\n"
      ]
     },
     "execution_count": 24,
     "metadata": {},
     "output_type": "execute_result"
    },
    {
     "data": {
      "text/plain": [
       "-0.95185261710874\t-1.5466936286653\t0\t\n",
       "-0.95185261710874\t-1.5466936286653\t0\t\n"
      ]
     },
     "execution_count": 24,
     "metadata": {},
     "output_type": "execute_result"
    },
    {
     "data": {
      "text/plain": [
       "-0.95185261710874\t-1.5466936286653\t0\t\n"
      ]
     },
     "execution_count": 24,
     "metadata": {},
     "output_type": "execute_result"
    },
    {
     "data": {
      "text/plain": [
       "-0.95185261710874\t-1.5466936286653\t0\t\n",
       "-0.95185261710874\t-1.5466936286653\t0\t\n",
       "-0.95185261710874\t-1.5466936286653\t0\t\n"
      ]
     },
     "execution_count": 24,
     "metadata": {},
     "output_type": "execute_result"
    },
    {
     "data": {
      "text/plain": [
       "-0.95185261710874\t-1.5466936286653\t0\t\n"
      ]
     },
     "execution_count": 24,
     "metadata": {},
     "output_type": "execute_result"
    },
    {
     "data": {
      "text/plain": [
       "-0.95185261710874\t-1.5466936286653\t0\t\n",
       "-0.95185261710874\t-1.5466936286653\t0\t\n"
      ]
     },
     "execution_count": 24,
     "metadata": {},
     "output_type": "execute_result"
    },
    {
     "data": {
      "text/plain": [
       "-0.95185261710874\t-1.5466936286653\t0\t\n",
       "-0.95185261710874\t-1.5466936286653\t0\t\n"
      ]
     },
     "execution_count": 24,
     "metadata": {},
     "output_type": "execute_result"
    },
    {
     "data": {
      "text/plain": [
       "-0.95185261710874\t-1.5466936286653\t0\t\n",
       "-0.95185261710874\t-1.5466936286653\t0\t\n"
      ]
     },
     "execution_count": 24,
     "metadata": {},
     "output_type": "execute_result"
    },
    {
     "data": {
      "text/plain": [
       "-0.95185261710874\t-1.5466936286653\t0\t\n",
       "-0.95185261710874\t-1.5466936286653\t0\t\n"
      ]
     },
     "execution_count": 24,
     "metadata": {},
     "output_type": "execute_result"
    },
    {
     "data": {
      "text/plain": [
       "-0.95185261710874\t-1.5466936286653\t0\t\n",
       "-0.95185261710874\t-1.5466936286653\t0\t\n"
      ]
     },
     "execution_count": 24,
     "metadata": {},
     "output_type": "execute_result"
    },
    {
     "data": {
      "text/plain": [
       "-0.95185261710874\t-1.5466936286653\t0\t\n",
       "-0.95185261710874\t-1.5466936286653\t0\t\n"
      ]
     },
     "execution_count": 24,
     "metadata": {},
     "output_type": "execute_result"
    },
    {
     "data": {
      "text/plain": [
       "-0.95185261710874\t-1.5466936286653\t0\t\n",
       "-0.95185261710874\t-1.5466936286653\t0\t\n"
      ]
     },
     "execution_count": 24,
     "metadata": {},
     "output_type": "execute_result"
    },
    {
     "data": {
      "text/plain": [
       "-0.95185261710874\t-1.5466936286653\t0\t\n"
      ]
     },
     "execution_count": 24,
     "metadata": {},
     "output_type": "execute_result"
    },
    {
     "data": {
      "text/plain": [
       "-0.95185261710874\t-1.5466936286653\t0\t\n"
      ]
     },
     "execution_count": 24,
     "metadata": {},
     "output_type": "execute_result"
    },
    {
     "data": {
      "text/plain": [
       "-0.95185261710874\t-1.5466936286653\t0\t\n",
       "-0.95185261710874\t-1.5466936286653\t0\t\n"
      ]
     },
     "execution_count": 24,
     "metadata": {},
     "output_type": "execute_result"
    },
    {
     "data": {
      "text/plain": [
       "-0.95185261710874\t-1.5466936286653\t0\t\n",
       "-0.95185261710874\t-1.5466936286653\t0\t\n"
      ]
     },
     "execution_count": 24,
     "metadata": {},
     "output_type": "execute_result"
    },
    {
     "data": {
      "text/plain": [
       "-0.95185261710874\t-1.5466936286653\t0\t\n",
       "-0.95185261710874\t-1.5466936286653\t0\t\n"
      ]
     },
     "execution_count": 24,
     "metadata": {},
     "output_type": "execute_result"
    },
    {
     "data": {
      "text/plain": [
       "-0.95185261710874\t-1.5466936286653\t0\t\n",
       "-0.95185261710874\t-1.5466936286653\t0\t\n"
      ]
     },
     "execution_count": 24,
     "metadata": {},
     "output_type": "execute_result"
    },
    {
     "data": {
      "text/plain": [
       "-0.95185261710874\t-1.5466936286653\t0\t\n"
      ]
     },
     "execution_count": 24,
     "metadata": {},
     "output_type": "execute_result"
    },
    {
     "data": {
      "text/plain": [
       "-0.95185261710874\t-1.5466936286653\t0\t\n",
       "-0.95185261710874\t-1.5466936286653\t0\t\n",
       "-0.95185261710874\t-1.5466936286653\t0\t\n"
      ]
     },
     "execution_count": 24,
     "metadata": {},
     "output_type": "execute_result"
    },
    {
     "data": {
      "text/plain": [
       "-0.95185261710874\t-1.5466936286653\t0\t\n",
       "-0.95185261710874\t-1.5466936286653\t0\t\n",
       "-0.95185261710874\t-1.5466936286653\t0\t\n"
      ]
     },
     "execution_count": 24,
     "metadata": {},
     "output_type": "execute_result"
    },
    {
     "data": {
      "text/plain": [
       "-0.95185261710874\t-1.5466936286653\t0\t\n",
       "-0.95185261710874\t-1.5466936286653\t0\t\n",
       "-0.95185261710874\t-1.5466936286653\t0\t\n"
      ]
     },
     "execution_count": 24,
     "metadata": {},
     "output_type": "execute_result"
    }
   ],
   "source": [
    "prl = nn.ParallelTable()\n",
    "prl:add(p1_mlp)\n",
    "prl:add(p2_mlp)\n",
    "\n",
    "mlp1 = nn.Sequential()\n",
    "mlp1:add(prl)\n",
    "mlp1:add(nn.DotProduct())\n",
    "\n",
    "mlp2 = mlp1:clone('weight', 'bias')\n",
    "\n",
    "mlpa = nn.Sequential()\n",
    "prla = nn.ParallelTable()\n",
    "prla:add(mlp1)\n",
    "prla:add(mlp2)\n",
    "mlpa:add(prla)\n",
    "\n",
    "crit = nn.MarginRankingCriterion(0.1)\n",
    "\n",
    "x=torch.randn(5)\n",
    "y=torch.randn(5)\n",
    "z=torch.randn(5)\n",
    "\n",
    "-- Use a typical generic gradient update function\n",
    "function gradUpdate(mlp, x, y, criterion, learningRate)\n",
    "   local pred = mlp:forward(x)\n",
    "   local err = criterion:forward(pred, y)\n",
    "   local gradCriterion = criterion:backward(pred, y)\n",
    "   mlp:zeroGradParameters()\n",
    "   mlp:backward(x, gradCriterion)\n",
    "   mlp:updateParameters(learningRate)\n",
    "end\n",
    "\n",
    "for i = 1, 100 do\n",
    "   gradUpdate(mlpa, {{x, y}, {x, z}}, 1, crit, 0.01)\n",
    "   if true then\n",
    "      o1 = mlp1:forward{x, y}[1]\n",
    "      o2 = mlp2:forward{x, z}[1]\n",
    "      o = crit:forward(mlpa:forward{{x, y}, {x, z}}, 1)\n",
    "      print(o1, o2, o)\n",
    "   end\n",
    "end"
   ]
  },
  {
   "cell_type": "code",
   "execution_count": null,
   "metadata": {
    "collapsed": true
   },
   "outputs": [],
   "source": []
  },
  {
   "cell_type": "code",
   "execution_count": null,
   "metadata": {
    "collapsed": true
   },
   "outputs": [],
   "source": []
  },
  {
   "cell_type": "markdown",
   "metadata": {
    "ExecuteTime": {
     "end_time": "2017-08-29T13:48:57",
     "start_time": "2017-08-29T11:48:57.388Z"
    }
   },
   "source": [
    "## Visualizing the implemented network"
   ]
  },
  {
   "cell_type": "code",
   "execution_count": 25,
   "metadata": {
    "ExecuteTime": {
     "end_time": "2017-09-12T18:02:36",
     "start_time": "2017-09-12T16:02:36.192Z"
    },
    "collapsed": false
   },
   "outputs": [
    {
     "ename": "[string \"function create_network(SEQ_LENGTH,VOCAB_SIZE...\"]:18: attempt to index global 'MemoryModule' (a nil value)\nstack traceback:\n\t[string \"function create_network(SEQ_LENGTH,VOCAB_SIZE...\"]:18: in function 'create_network'\n\t[string \"-- some handy models are defined in optnet.mo...\"]:4: in main chunk\n\t[C]: in function 'xpcall'\n\t/Users/david/torch/install/share/lua/5.1/itorch/main.lua:210: in function </Users/david/torch/install/share/lua/5.1/itorch/main.lua:174>\n\t/Users/david/torch/install/share/lua/5.1/lzmq/poller.lua:80: in function 'poll'\n\t/Users/david/torch/install/share/lua/5.1/lzmq/impl/loop.lua:307: in function 'poll'\n\t/Users/david/torch/install/share/lua/5.1/lzmq/impl/loop.lua:325: in function 'sleep_ex'\n\t/Users/david/torch/install/share/lua/5.1/lzmq/impl/loop.lua:370: in function 'start'\n\t/Users/david/torch/install/share/lua/5.1/itorch/main.lua:389: in main chunk\n\t[C]: in function 'require'\n\t(command line):1: in main chunk\n\t[C]: at 0x0101977a10",
     "evalue": "",
     "output_type": "error",
     "traceback": [
      "[string \"function create_network(SEQ_LENGTH,VOCAB_SIZE...\"]:18: attempt to index global 'MemoryModule' (a nil value)\nstack traceback:\n\t[string \"function create_network(SEQ_LENGTH,VOCAB_SIZE...\"]:18: in function 'create_network'\n\t[string \"-- some handy models are defined in optnet.mo...\"]:4: in main chunk\n\t[C]: in function 'xpcall'\n\t/Users/david/torch/install/share/lua/5.1/itorch/main.lua:210: in function </Users/david/torch/install/share/lua/5.1/itorch/main.lua:174>\n\t/Users/david/torch/install/share/lua/5.1/lzmq/poller.lua:80: in function 'poll'\n\t/Users/david/torch/install/share/lua/5.1/lzmq/impl/loop.lua:307: in function 'poll'\n\t/Users/david/torch/install/share/lua/5.1/lzmq/impl/loop.lua:325: in function 'sleep_ex'\n\t/Users/david/torch/install/share/lua/5.1/lzmq/impl/loop.lua:370: in function 'start'\n\t/Users/david/torch/install/share/lua/5.1/itorch/main.lua:389: in main chunk\n\t[C]: in function 'require'\n\t(command line):1: in main chunk\n\t[C]: at 0x0101977a10"
     ]
    }
   ],
   "source": [
    "-- some handy models are defined in optnet.models\n",
    "-- like alexnet, googlenet, vgg and resnet\n",
    "\n",
    "local mlp = create_network()\n",
    "\n",
    "generateGraph = require 'optnet.graphgen'\n",
    "\n",
    "-- visual properties of the generated graph\n",
    "-- follows graphviz attributes\n",
    "g = generateGraph(mlp)\n",
    "graph.dot(g,\"MemoryNetwork\",\"MemoryNetwork\")"
   ]
  },
  {
   "cell_type": "code",
   "execution_count": null,
   "metadata": {
    "collapsed": true
   },
   "outputs": [],
   "source": []
  },
  {
   "cell_type": "markdown",
   "metadata": {},
   "source": [
    "# Testing the Memory Network"
   ]
  },
  {
   "cell_type": "code",
   "execution_count": null,
   "metadata": {
    "ExecuteTime": {
     "end_time": "2017-08-29T11:30:38",
     "start_time": "2017-08-29T09:30:38.521Z"
    },
    "collapsed": true
   },
   "outputs": [],
   "source": []
  },
  {
   "cell_type": "code",
   "execution_count": null,
   "metadata": {
    "collapsed": true
   },
   "outputs": [],
   "source": []
  },
  {
   "cell_type": "markdown",
   "metadata": {
    "ExecuteTime": {
     "end_time": "2017-08-28T17:09:24",
     "start_time": "2017-08-28T15:09:24.968Z"
    }
   },
   "source": [
    "# Scrap"
   ]
  },
  {
   "cell_type": "markdown",
   "metadata": {},
   "source": [
    "## Copying a clone to put it in a memory"
   ]
  },
  {
   "cell_type": "code",
   "execution_count": 4,
   "metadata": {
    "ExecuteTime": {
     "end_time": "2017-09-12T18:01:41",
     "start_time": "2017-09-12T16:01:41.408Z"
    },
    "collapsed": false
   },
   "outputs": [
    {
     "data": {
      "text/plain": [
       "valeur de a \n",
       "\t\n"
      ]
     },
     "execution_count": 4,
     "metadata": {},
     "output_type": "execute_result"
    },
    {
     "data": {
      "text/plain": [
       " 0  0  0  0\n",
       " 0  0  0  0\n",
       " 0  0  0  0\n",
       " 0  0  0  0\n",
       " 0  0  0  0\n",
       " 0  0  0  0\n",
       " 0  0  0  0\n",
       " 0  0  0  0\n",
       " 0  0  0  0\n",
       " 0  0  0  0\n",
       "[torch.DoubleTensor of size 10x4]\n",
       "\n",
       "valeur de mem \n",
       "\t\n",
       " 0  0  0  0\n",
       " 0  0  0  0\n",
       " 0  0  0  0\n",
       " 0  0  0  0\n",
       " 0  0  0  0\n",
       " 0  0  0  0\n",
       " 0  0  0  0\n",
       " 0  0  0  0\n",
       " 0  0  0  0\n",
       " 0  0  0  0\n",
       " 0  0  0  0\n",
       " 0  0  0  0\n",
       " 0  0  0  0\n",
       " 0  0  0  0\n",
       " 0  0  0  0\n",
       " 0  0  0  0\n",
       "[torch.DoubleTensor of size 16x4]\n",
       "\n",
       "valeur de a \n",
       "\t\n",
       " 0  0  0  0\n",
       " 0  0  0  0\n",
       " 0  0  0  0\n",
       " 0  0  0  0\n",
       " 0  0  0  0\n",
       " 0  0  0  0\n",
       " 0  0  0  0\n",
       " 0  0  0  0\n",
       " 0  0  0  0\n",
       " 0  0  0  0\n",
       "[torch.DoubleTensor of size 10x4]\n",
       "\n",
       "valeur de mem \n",
       "\t\n",
       " 0  0  0  0\n",
       " 0  0  0  0\n",
       " 0  0  0  0\n",
       " 0  0  0  0\n",
       " 0  0  0  0\n",
       " 0  0  0  0\n",
       " 0  0  0  0\n",
       " 0  0  0  0\n",
       " 0  0  0  0\n",
       " 0  0  0  0\n",
       " 0  0  0  0\n",
       " 0  0  0  0\n",
       " 0  0  0  0\n",
       " 0  0  0  0\n",
       " 0  0  0  0\n",
       " 0  0  0  0\n",
       "[torch.DoubleTensor of size 16x4]\n",
       "\n"
      ]
     },
     "execution_count": 4,
     "metadata": {},
     "output_type": "execute_result"
    }
   ],
   "source": [
    "local a = torch.Tensor(10,4)\n",
    "local mem = torch.Tensor(16,4)\n",
    "\n",
    "print('valeur de a \\n')\n",
    "print(a)\n",
    "print('valeur de mem \\n')\n",
    "print(mem)\n",
    "\n",
    "for i=1,a:size(1) do\n",
    "    --print(i)\n",
    "    local cl = a[{i,{}}]:clone()\n",
    "    mem[{i}] = cl\n",
    "end\n",
    "\n",
    "print('valeur de a \\n')\n",
    "print(a)\n",
    "print('valeur de mem \\n')\n",
    "print(mem)"
   ]
  },
  {
   "cell_type": "markdown",
   "metadata": {
    "ExecuteTime": {
     "end_time": "2017-08-28T17:27:27",
     "start_time": "2017-08-28T15:27:27.052Z"
    }
   },
   "source": [
    "## Multiplying tensors"
   ]
  },
  {
   "cell_type": "code",
   "execution_count": 9,
   "metadata": {
    "ExecuteTime": {
     "end_time": "2017-09-12T18:01:59",
     "start_time": "2017-09-12T16:01:59.273Z"
    },
    "collapsed": true
   },
   "outputs": [],
   "source": [
    "a = torch.Tensor(10,2)\n",
    "aa = torch.Tensor(2,8)"
   ]
  },
  {
   "cell_type": "code",
   "execution_count": null,
   "metadata": {
    "ExecuteTime": {
     "end_time": "2017-09-12T18:02:00",
     "start_time": "2017-09-12T16:02:00.702Z"
    },
    "collapsed": false
   },
   "outputs": [],
   "source": [
    "\n"
   ]
  },
  {
   "cell_type": "markdown",
   "metadata": {
    "ExecuteTime": {
     "end_time": "2017-08-28T16:07:25",
     "start_time": "2017-08-28T14:07:25.663Z"
    }
   },
   "source": [
    "# Scrap"
   ]
  },
  {
   "cell_type": "code",
   "execution_count": 6,
   "metadata": {
    "ExecuteTime": {
     "end_time": "2017-09-12T18:01:41",
     "start_time": "2017-09-12T16:01:41.795Z"
    },
    "collapsed": false
   },
   "outputs": [
    {
     "data": {
      "text/plain": [
       "nil\t\n"
      ]
     },
     "execution_count": 6,
     "metadata": {},
     "output_type": "execute_result"
    },
    {
     "ename": "[string \"print(r)...\"]:2: attempt to index global 'r' (a nil value)\nstack traceback:\n\t[string \"print(r)...\"]:2: in main chunk\n\t[C]: in function 'xpcall'\n\t/Users/david/torch/install/share/lua/5.1/itorch/main.lua:210: in function </Users/david/torch/install/share/lua/5.1/itorch/main.lua:174>\n\t/Users/david/torch/install/share/lua/5.1/lzmq/poller.lua:80: in function 'poll'\n\t/Users/david/torch/install/share/lua/5.1/lzmq/impl/loop.lua:307: in function 'poll'\n\t/Users/david/torch/install/share/lua/5.1/lzmq/impl/loop.lua:325: in function 'sleep_ex'\n\t/Users/david/torch/install/share/lua/5.1/lzmq/impl/loop.lua:370: in function 'start'\n\t/Users/david/torch/install/share/lua/5.1/itorch/main.lua:389: in main chunk\n\t[C]: in function 'require'\n\t(command line):1: in main chunk\n\t[C]: at 0x0101977a10",
     "evalue": "",
     "output_type": "error",
     "traceback": [
      "[string \"print(r)...\"]:2: attempt to index global 'r' (a nil value)\nstack traceback:\n\t[string \"print(r)...\"]:2: in main chunk\n\t[C]: in function 'xpcall'\n\t/Users/david/torch/install/share/lua/5.1/itorch/main.lua:210: in function </Users/david/torch/install/share/lua/5.1/itorch/main.lua:174>\n\t/Users/david/torch/install/share/lua/5.1/lzmq/poller.lua:80: in function 'poll'\n\t/Users/david/torch/install/share/lua/5.1/lzmq/impl/loop.lua:307: in function 'poll'\n\t/Users/david/torch/install/share/lua/5.1/lzmq/impl/loop.lua:325: in function 'sleep_ex'\n\t/Users/david/torch/install/share/lua/5.1/lzmq/impl/loop.lua:370: in function 'start'\n\t/Users/david/torch/install/share/lua/5.1/itorch/main.lua:389: in main chunk\n\t[C]: in function 'require'\n\t(command line):1: in main chunk\n\t[C]: at 0x0101977a10"
     ]
    }
   ],
   "source": [
    "print(r)\n",
    "print(r:select(1,2))"
   ]
  },
  {
   "cell_type": "markdown",
   "metadata": {},
   "source": [
    "# Scrap on nnGraph operations"
   ]
  },
  {
   "cell_type": "code",
   "execution_count": 11,
   "metadata": {
    "ExecuteTime": {
     "end_time": "2017-09-12T18:02:09",
     "start_time": "2017-09-12T16:02:09.356Z"
    },
    "collapsed": false
   },
   "outputs": [
    {
     "ename": "[string \"local inputs = {}...\"]:5: attempt to index global 'nn' (a nil value)\nstack traceback:\n\t[string \"local inputs = {}...\"]:5: in main chunk\n\t[C]: in function 'xpcall'\n\t/Users/david/torch/install/share/lua/5.1/itorch/main.lua:210: in function </Users/david/torch/install/share/lua/5.1/itorch/main.lua:174>\n\t/Users/david/torch/install/share/lua/5.1/lzmq/poller.lua:80: in function 'poll'\n\t/Users/david/torch/install/share/lua/5.1/lzmq/impl/loop.lua:307: in function 'poll'\n\t/Users/david/torch/install/share/lua/5.1/lzmq/impl/loop.lua:325: in function 'sleep_ex'\n\t/Users/david/torch/install/share/lua/5.1/lzmq/impl/loop.lua:370: in function 'start'\n\t/Users/david/torch/install/share/lua/5.1/itorch/main.lua:389: in main chunk\n\t[C]: in function 'require'\n\t(command line):1: in main chunk\n\t[C]: at 0x0101977a10",
     "evalue": "",
     "output_type": "error",
     "traceback": [
      "[string \"local inputs = {}...\"]:5: attempt to index global 'nn' (a nil value)\nstack traceback:\n\t[string \"local inputs = {}...\"]:5: in main chunk\n\t[C]: in function 'xpcall'\n\t/Users/david/torch/install/share/lua/5.1/itorch/main.lua:210: in function </Users/david/torch/install/share/lua/5.1/itorch/main.lua:174>\n\t/Users/david/torch/install/share/lua/5.1/lzmq/poller.lua:80: in function 'poll'\n\t/Users/david/torch/install/share/lua/5.1/lzmq/impl/loop.lua:307: in function 'poll'\n\t/Users/david/torch/install/share/lua/5.1/lzmq/impl/loop.lua:325: in function 'sleep_ex'\n\t/Users/david/torch/install/share/lua/5.1/lzmq/impl/loop.lua:370: in function 'start'\n\t/Users/david/torch/install/share/lua/5.1/itorch/main.lua:389: in main chunk\n\t[C]: in function 'require'\n\t(command line):1: in main chunk\n\t[C]: at 0x0101977a10"
     ]
    }
   ],
   "source": [
    "local inputs = {}\n",
    "local outputs = {}\n",
    "local par = {}\n",
    "for i=1,6 do \n",
    "    table.insert(inputs,nn.Identity()()) \n",
    "    par[#par+1] = nn.ParallelTable()(inputs[i])\n",
    "end\n",
    "local out = nn.JoinTable()(par)\n",
    "table.insert(outputs,out)\n",
    "l = nn.gModule(inputs,outputs)"
   ]
  },
  {
   "cell_type": "code",
   "execution_count": null,
   "metadata": {
    "ExecuteTime": {
     "end_time": "2017-08-29T14:28:16",
     "start_time": "2017-08-29T12:28:16.797Z"
    },
    "collapsed": false
   },
   "outputs": [],
   "source": []
  },
  {
   "cell_type": "code",
   "execution_count": 8,
   "metadata": {
    "ExecuteTime": {
     "end_time": "2017-09-12T18:01:42",
     "start_time": "2017-09-12T16:01:42.017Z"
    },
    "collapsed": false
   },
   "outputs": [
    {
     "ename": "[string \"inp = nn.SplitTable(1):forward(torch.LongTens...\"]:1: attempt to index global 'nn' (a nil value)\nstack traceback:\n\t[string \"inp = nn.SplitTable(1):forward(torch.LongTens...\"]:1: in main chunk\n\t[C]: in function 'xpcall'\n\t/Users/david/torch/install/share/lua/5.1/itorch/main.lua:210: in function </Users/david/torch/install/share/lua/5.1/itorch/main.lua:174>\n\t/Users/david/torch/install/share/lua/5.1/lzmq/poller.lua:80: in function 'poll'\n\t/Users/david/torch/install/share/lua/5.1/lzmq/impl/loop.lua:307: in function 'poll'\n\t/Users/david/torch/install/share/lua/5.1/lzmq/impl/loop.lua:325: in function 'sleep_ex'\n\t/Users/david/torch/install/share/lua/5.1/lzmq/impl/loop.lua:370: in function 'start'\n\t/Users/david/torch/install/share/lua/5.1/itorch/main.lua:389: in main chunk\n\t[C]: in function 'require'\n\t(command line):1: in main chunk\n\t[C]: at 0x0101977a10",
     "evalue": "",
     "output_type": "error",
     "traceback": [
      "[string \"inp = nn.SplitTable(1):forward(torch.LongTens...\"]:1: attempt to index global 'nn' (a nil value)\nstack traceback:\n\t[string \"inp = nn.SplitTable(1):forward(torch.LongTens...\"]:1: in main chunk\n\t[C]: in function 'xpcall'\n\t/Users/david/torch/install/share/lua/5.1/itorch/main.lua:210: in function </Users/david/torch/install/share/lua/5.1/itorch/main.lua:174>\n\t/Users/david/torch/install/share/lua/5.1/lzmq/poller.lua:80: in function 'poll'\n\t/Users/david/torch/install/share/lua/5.1/lzmq/impl/loop.lua:307: in function 'poll'\n\t/Users/david/torch/install/share/lua/5.1/lzmq/impl/loop.lua:325: in function 'sleep_ex'\n\t/Users/david/torch/install/share/lua/5.1/lzmq/impl/loop.lua:370: in function 'start'\n\t/Users/david/torch/install/share/lua/5.1/itorch/main.lua:389: in main chunk\n\t[C]: in function 'require'\n\t(command line):1: in main chunk\n\t[C]: at 0x0101977a10"
     ]
    }
   ],
   "source": [
    "inp = nn.SplitTable(1):forward(torch.LongTensor(1,6):squeeze():fill(1))\n",
    "l:forward{unpack(inp)}"
   ]
  },
  {
   "cell_type": "code",
   "execution_count": null,
   "metadata": {
    "collapsed": true
   },
   "outputs": [],
   "source": []
  }
 ],
 "metadata": {
  "anaconda-cloud": {},
  "kernelspec": {
   "display_name": "iTorch",
   "language": "lua",
   "name": "itorch"
  },
  "language_info": {
   "name": "lua",
   "version": "5.1"
  },
  "latex_envs": {
   "bibliofile": "biblio.bib",
   "cite_by": "apalike",
   "current_citInitial": 1,
   "eqLabelWithNumbers": true,
   "eqNumInitial": 0
  },
  "nav_menu": {},
  "toc": {
   "navigate_menu": true,
   "number_sections": true,
   "sideBar": true,
   "threshold": 6,
   "toc_cell": true,
   "toc_section_display": "block",
   "toc_window_display": false
  }
 },
 "nbformat": 4,
 "nbformat_minor": 1
}
