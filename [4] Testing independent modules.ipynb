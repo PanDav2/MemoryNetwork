{
 "cells": [
  {
   "cell_type": "code",
   "execution_count": 1,
   "metadata": {
    "ExecuteTime": {
     "end_time": "2017-09-13T14:31:50",
     "start_time": "2017-09-13T12:31:50.733Z"
    },
    "collapsed": true
   },
   "outputs": [],
   "source": [
    "data_loader = require 'utils.data_loader';"
   ]
  },
  {
   "cell_type": "code",
   "execution_count": 2,
   "metadata": {
    "ExecuteTime": {
     "end_time": "2017-09-13T14:31:50",
     "start_time": "2017-09-13T12:31:50.897Z"
    },
    "collapsed": false
   },
   "outputs": [
    {
     "data": {
      "text/plain": [
       "saving /Users/david/Documents/MemoryNetwork/output_lua/vocab.t7\t\n"
      ]
     },
     "execution_count": 2,
     "metadata": {},
     "output_type": "execute_result"
    },
    {
     "data": {
      "text/plain": [
       "saving its index in /Users/david/Documents/MemoryNetwork/output_lua/vocab.t7_index\t\n"
      ]
     },
     "execution_count": 2,
     "metadata": {},
     "output_type": "execute_result"
    },
    {
     "data": {
      "text/plain": [
       "putting sample tensor into /Users/david/Documents/MemoryNetwork/output_lua/sample.t7...\t\n"
      ]
     },
     "execution_count": 2,
     "metadata": {},
     "output_type": "execute_result"
    },
    {
     "data": {
      "text/plain": [
       "saving /Users/david/Documents/MemoryNetwork/output_lua/sample.t7\t\n",
       "putting label tensor into /Users/david/Documents/MemoryNetwork/output_lua/data.t7...\t\n"
      ]
     },
     "execution_count": 2,
     "metadata": {},
     "output_type": "execute_result"
    },
    {
     "data": {
      "text/plain": [
       "saving /Users/david/Documents/MemoryNetwork/output_lua/data.t7\t\n"
      ]
     },
     "execution_count": 2,
     "metadata": {},
     "output_type": "execute_result"
    }
   ],
   "source": [
    "input_file = \"/Users/david/Documents/MemoryNetwork/preprocessing/output.txt\"\n",
    "out_vocab_file = \"/Users/david/Documents/MemoryNetwork/output_lua/vocab.t7\"\n",
    "out_tensor_file = \"/Users/david/Documents/MemoryNetwork/output_lua/data.t7\"\n",
    "voc = torch.load(\"/Users/david/Documents/MemoryNetwork/output_lua/vocab.t7\")\n",
    "index = torch.load(\"/Users/david/Documents/MemoryNetwork/output_lua/vocab.t7_index\")\n",
    "x, y, f = data_loader.text_to_tensor(input_file,out_vocab_file,out_tensor_file)"
   ]
  },
  {
   "cell_type": "code",
   "execution_count": 5,
   "metadata": {
    "ExecuteTime": {
     "end_time": "2017-09-13T13:40:55",
     "start_time": "2017-09-13T11:40:55.160Z"
    },
    "collapsed": false
   },
   "outputs": [],
   "source": [
    "local s = \"ceci est une string\""
   ]
  },
  {
   "cell_type": "code",
   "execution_count": 7,
   "metadata": {
    "ExecuteTime": {
     "end_time": "2017-09-13T13:52:11",
     "start_time": "2017-09-13T11:52:11.052Z"
    },
    "collapsed": false
   },
   "outputs": [],
   "source": [
    "function split_fact_table(fact_table)\n",
    "    local a = {}\n",
    "    local a_global = {}\n",
    "    \n",
    "    for i=1,#fact_table do \n",
    "        -- table.insert(a,torch.Tensor(supp_facts[i])) \n",
    "        a = fact_table[i]:split(\",\")\n",
    "        -- Changing the type of the elements of a\n",
    "        for j =1,#a do\n",
    "            if j == 1 then \n",
    "                if #a == 9 then\n",
    "                    a[j] = \"42\"  -- Hardcoding it by now because lua as trouble converting 1st element \n",
    "                else                     -- Even when using string conversion (subs) to clean entry 1st element (space)\n",
    "                    a[j] = \"22\"\n",
    "                end\n",
    "            end\n",
    "            local aa = tonumber(a[j])\n",
    "            if aa == nil then print(a[j]) print(aa) end\n",
    "            a[j] = aa\n",
    "        end \n",
    "        table.insert(a_global,a)\n",
    "    end\n",
    "    return a_global\n",
    "end"
   ]
  },
  {
   "cell_type": "code",
   "execution_count": 14,
   "metadata": {
    "ExecuteTime": {
     "end_time": "2017-09-13T13:52:39",
     "start_time": "2017-09-13T11:52:39.861Z"
    },
    "collapsed": false
   },
   "outputs": [],
   "source": [
    "local a = split_fact_table(supp_facts)"
   ]
  },
  {
   "cell_type": "markdown",
   "metadata": {},
   "source": [
    "## Checking the table types"
   ]
  },
  {
   "cell_type": "code",
   "execution_count": null,
   "metadata": {
    "ExecuteTime": {
     "end_time": "2017-09-13T13:32:40",
     "start_time": "2017-09-13T11:32:40.302Z"
    },
    "collapsed": false
   },
   "outputs": [],
   "source": []
  },
  {
   "cell_type": "code",
   "execution_count": 18,
   "metadata": {
    "ExecuteTime": {
     "end_time": "2017-09-13T14:25:47",
     "start_time": "2017-09-13T12:25:47.596Z"
    },
    "collapsed": false
   },
   "outputs": [],
   "source": [
    "function convert_tensor_to_table(table_to_convert)\n",
    "    local size = 0\n",
    "    for i=1, #table_to_convert do\n",
    "        if #table_to_convert[i] > size then\n",
    "            size = #table_to_convert[i]\n",
    "        end\n",
    "    end\n",
    "\n",
    "    for i=1, #table_to_convert do\n",
    "        if #table_to_convert[i] < size then\n",
    "            for j=1,size-#table_to_convert[i] do\n",
    "                table.insert(table_to_convert[i],0)\n",
    "            end\n",
    "        end\n",
    "    end\n",
    "    return torch.Tensor(table_to_convert)\n",
    "end"
   ]
  },
  {
   "cell_type": "code",
   "execution_count": 21,
   "metadata": {
    "ExecuteTime": {
     "end_time": "2017-09-13T14:26:05",
     "start_time": "2017-09-13T12:26:05.242Z"
    },
    "collapsed": false
   },
   "outputs": [],
   "source": []
  },
  {
   "cell_type": "markdown",
   "metadata": {
    "ExecuteTime": {
     "end_time": "2017-09-13T11:51:32",
     "start_time": "2017-09-13T09:51:32.884Z"
    }
   },
   "source": [
    "# testing on insertion on torch tensor "
   ]
  },
  {
   "cell_type": "code",
   "execution_count": null,
   "metadata": {
    "ExecuteTime": {
     "end_time": "2017-09-13T13:41:07",
     "start_time": "2017-09-13T11:41:07.443Z"
    },
    "collapsed": false
   },
   "outputs": [],
   "source": []
  },
  {
   "cell_type": "code",
   "execution_count": null,
   "metadata": {
    "collapsed": true
   },
   "outputs": [],
   "source": []
  },
  {
   "cell_type": "code",
   "execution_count": null,
   "metadata": {
    "collapsed": true
   },
   "outputs": [],
   "source": []
  }
 ],
 "metadata": {
  "anaconda-cloud": {},
  "kernelspec": {
   "display_name": "iTorch",
   "language": "lua",
   "name": "itorch"
  },
  "language_info": {
   "name": "lua",
   "version": "5.1"
  },
  "latex_envs": {
   "bibliofile": "biblio.bib",
   "cite_by": "apalike",
   "current_citInitial": 1,
   "eqLabelWithNumbers": true,
   "eqNumInitial": 0
  },
  "nav_menu": {},
  "toc": {
   "navigate_menu": true,
   "number_sections": true,
   "sideBar": true,
   "threshold": 6,
   "toc_cell": false,
   "toc_section_display": "block",
   "toc_window_display": false
  }
 },
 "nbformat": 4,
 "nbformat_minor": 1
}
