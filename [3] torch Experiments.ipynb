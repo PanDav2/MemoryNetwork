{
 "cells": [
  {
   "cell_type": "code",
   "execution_count": 1,
   "metadata": {
    "ExecuteTime": {
     "end_time": "2017-08-30T14:02:45",
     "start_time": "2017-08-30T12:02:45.255Z"
    },
    "collapsed": true
   },
   "outputs": [],
   "source": [
    "require 'nn';\n",
    "require 'nngraph';\n",
    "--require '';"
   ]
  },
  {
   "cell_type": "code",
   "execution_count": 9,
   "metadata": {
    "ExecuteTime": {
     "end_time": "2017-08-30T14:06:03",
     "start_time": "2017-08-30T12:06:03.334Z"
    },
    "collapsed": false
   },
   "outputs": [
    {
     "data": {
      "text/plain": [
       " 1.0053\n",
       "-2.1080\n",
       " 0.9720\n",
       "-0.7244\n",
       " 0.2168\n",
       " 0.3502\n",
       "-0.4120\n",
       "-1.2879\n",
       " 0.2274\n",
       " 1.2317\n",
       "-1.5174\n",
       " 0.9370\n",
       " 0.0511\n",
       "-1.4794\n",
       " 0.1363\n",
       " 0.8209\n",
       " 1.2948\n",
       " 1.1079\n",
       " 1.5179\n",
       " 1.2365\n",
       "-0.4772\n",
       " 1.8123\n",
       " 0.5986\n",
       "-0.6160\n",
       "-1.3986\n",
       " 0.7960\n",
       "-0.5046\n",
       "-1.2275\n",
       "-0.1017\n",
       "-0.4091\n",
       "-2.4711\n",
       " 0.2178\n",
       "-0.4945\n",
       " 0.0454\n",
       " 0.3241\n",
       " 0.8483\n",
       " 0.4261\n",
       " 0.2672\n",
       " 0.7793\n",
       " 0.8052\n",
       "-0.2727\n",
       "-0.0792\n",
       "-0.5183\n",
       " 1.5382\n",
       " 0.5637\n",
       "-1.3600\n",
       " 0.4030\n",
       " 1.1994\n",
       "-1.7392\n",
       " 1.0500\n",
       "-1.2876\n",
       " 0.8280\n",
       " 0.0392\n",
       "-1.7628\n",
       "-1.8126\n",
       "-1.8450\n",
       " 0.6810\n",
       " 1.3087\n",
       "-0.5547\n",
       "-1.4833\n",
       "-0.2227\n",
       "-0.3234\n",
       "-2.9508\n",
       " 0.7584\n",
       " 0.4766\n",
       " 0.8866\n",
       " 1.8764\n",
       " 0.0190\n",
       "-0.4031\n",
       " 1.0732\n",
       "-1.1878\n",
       " 0.6969\n",
       "-0.3931\n",
       " 1.3485\n",
       " 0.1899\n",
       " 1.4047\n",
       " 1.0592\n",
       " 0.6917\n",
       "-1.0902\n",
       "-0.0278\n",
       " 0.0026\n",
       " 0.4816\n",
       "-2.1531\n",
       " 1.0038\n",
       " 0.6828\n",
       " 0.0468\n",
       "-0.7884\n",
       " 1.8577\n",
       "-0.3663\n",
       " 1.4650\n",
       "-1.1437\n",
       "-0.3173\n",
       " 1.0337\n",
       "-1.5224\n",
       " 0.1207\n",
       " 1.8622\n",
       "-0.4789\n",
       "-0.4502\n",
       " 0.7363\n",
       " 1.0607\n",
       "[torch.DoubleStorage of size 100]\n",
       "\n"
      ]
     },
     "execution_count": 9,
     "metadata": {},
     "output_type": "execute_result"
    }
   ],
   "source": [
    "local l = nn.LookupTable(10,100)\n",
    "local ll= l:forward(torch.Tensor(1):fill(1))\n",
    "local lll= l:forward(torch.Tensor(1):fill(1))\n"
   ]
  },
  {
   "cell_type": "code",
   "execution_count": null,
   "metadata": {
    "collapsed": true
   },
   "outputs": [],
   "source": []
  },
  {
   "cell_type": "code",
   "execution_count": null,
   "metadata": {
    "collapsed": true
   },
   "outputs": [],
   "source": []
  }
 ],
 "metadata": {
  "kernelspec": {
   "display_name": "iTorch",
   "language": "lua",
   "name": "itorch"
  },
  "language_info": {
   "name": "lua",
   "version": "5.1"
  },
  "latex_envs": {
   "bibliofile": "biblio.bib",
   "cite_by": "apalike",
   "current_citInitial": 1,
   "eqLabelWithNumbers": true,
   "eqNumInitial": 0
  },
  "nav_menu": {},
  "toc": {
   "navigate_menu": true,
   "number_sections": true,
   "sideBar": true,
   "threshold": 6,
   "toc_cell": false,
   "toc_section_display": "none",
   "toc_window_display": false
  }
 },
 "nbformat": 4,
 "nbformat_minor": 1
}
