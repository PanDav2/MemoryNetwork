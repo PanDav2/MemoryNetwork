{
 "cells": [
  {
   "cell_type": "code",
   "execution_count": 9,
   "metadata": {
    "ExecuteTime": {
     "end_time": "2017-08-22T12:48:22.147945",
     "start_time": "2017-08-22T12:48:22.142491"
    },
    "collapsed": false,
    "nbpresent": {
     "id": "0ae80e52-99ac-4346-b4d7-6cdc9d4d756e"
    }
   },
   "outputs": [],
   "source": [
    "from collections import defaultdict\n",
    "import numpy as np\n",
    "import pandas as pd\n",
    "from abc import ABCMeta, abstractmethod"
   ]
  },
  {
   "cell_type": "markdown",
   "metadata": {
    "ExecuteTime": {
     "end_time": "2017-02-07T23:22:10.278566",
     "start_time": "2017-02-07T23:22:10.272788"
    },
    "collapsed": false,
    "nbpresent": {
     "id": "aa85cf7b-a5bd-4a57-8537-17f395f0c8d4"
    }
   },
   "source": [
    "# Simulated World dataset generation"
   ]
  },
  {
   "cell_type": "code",
   "execution_count": 10,
   "metadata": {
    "ExecuteTime": {
     "end_time": "2017-08-22T12:48:22.480978",
     "start_time": "2017-08-22T12:48:22.465185"
    },
    "collapsed": false,
    "nbpresent": {
     "id": "7da5bdd2-f6f4-4560-b289-7c3c863b62f4"
    }
   },
   "outputs": [],
   "source": [
    "def retrieve_first_names(input_file):\n",
    "    with open(input_file,'r') as inp:\n",
    "        a =  inp.readlines()\n",
    "    a = map(lambda x : x.split('\\t')[0],a)\n",
    "    a = list(np.random.choice(a,len(a),replace=False))\n",
    "    return a\n",
    "\n",
    "def retrieve_file(input_file):\n",
    "    with open(input_file,'r') as inp:\n",
    "        a =  inp.readlines()\n",
    "        aa = list()\n",
    "        for i in a:\n",
    "            aa.append(i[:-1])\n",
    "        aa = list(np.random.choice(aa,len(aa),replace=False)) \n",
    "        return aa"
   ]
  },
  {
   "cell_type": "code",
   "execution_count": 11,
   "metadata": {
    "ExecuteTime": {
     "end_time": "2017-08-22T12:48:22.603385",
     "start_time": "2017-08-22T12:48:22.592221"
    },
    "collapsed": false,
    "nbpresent": {
     "id": "1df3a73d-aef8-4421-8c8e-1856b41645d4"
    }
   },
   "outputs": [],
   "source": [
    "DATA_DIR = \"../preprocessing/\"\n",
    "nam = retrieve_first_names(DATA_DIR+\"first_name.txt\")\n",
    "pla = retrieve_file(DATA_DIR + \"house_places.txt\")\n",
    "obj = retrieve_file(DATA_DIR + 'objects.txt')"
   ]
  },
  {
   "cell_type": "code",
   "execution_count": 12,
   "metadata": {
    "ExecuteTime": {
     "end_time": "2017-08-22T12:48:22.762778",
     "start_time": "2017-08-22T12:48:22.720740"
    },
    "collapsed": true
   },
   "outputs": [],
   "source": [
    "class Scenario(object):\n",
    "    \"\"\"Bordes and al. used a rather simple world : 4 characters, 3 objects and 5 rooms\"\"\"\n",
    "    def __init__(self,training_sample,number_of_characters = 4, number_of_objects = 3, number_of_locations = 5):\n",
    "        self._generate_variables(number_of_characters, number_of_objects, number_of_locations)\n",
    "        self.training_samples = list()\n",
    "        if isinstance(training_sample,list):\n",
    "            for ts in training_sample:\n",
    "                self.add_training_sample(ts)\n",
    "        else : \n",
    "            self.add_training_sample(training_sample)\n",
    "        \n",
    "    def _generate_variables(self,number_of_characters = 4, number_of_objects = 3, number_of_locations = 5):\n",
    "        self.number_of_characters = number_of_characters\n",
    "        self.number_of_objects = number_of_objects\n",
    "        self.number_of_locations = number_of_locations\n",
    "        self.names = retrieve_first_names(\"../preprocessing/first_name.txt\")[:self.number_of_characters]\n",
    "        self.objects = retrieve_file('../preprocessing/objects.txt')[:self.number_of_characters]\n",
    "        self.locations = retrieve_file(\"../preprocessing/house_places.txt\")[:self.number_of_characters]\n",
    "        \n",
    "    def add_training_sample(self,training_sample):\n",
    "        assert hasattr(training_sample,'__call__'), \"Training sample should be callable\"\n",
    "        assert hasattr(training_sample,'_generate_questions'), \"the traning sample should have _generate_questions \"\n",
    "        assert hasattr(training_sample,'_generate_context'), \"the traning sample should have _generate_context attr \"\n",
    "        t = training_sample(self.objects,self.names,self.locations)\n",
    "        self.training_samples.append(t)\n",
    "        \n",
    "    def create_corpus(self,number_of_sentences = 70):\n",
    "        self._generate_variables()\n",
    "        self.dataset = defaultdict(dict)\n",
    "        for i in range(number_of_sentences) :\n",
    "            self._generate_variables()\n",
    "            t = np.random.choice(self.training_samples)\n",
    "            self.dataset[i] = t.generate_training_example()\n",
    "        return self.dataset"
   ]
  },
  {
   "cell_type": "code",
   "execution_count": 13,
   "metadata": {
    "ExecuteTime": {
     "end_time": "2017-08-22T12:48:22.934444",
     "start_time": "2017-08-22T12:48:22.892299"
    },
    "collapsed": false
   },
   "outputs": [],
   "source": [
    "class TrainingItems(object):\n",
    "    __metaclass__ = ABCMeta\n",
    "    \n",
    "    def __init__(self,list_of_objects,list_of_characters,list_of_places):\n",
    "        self.list_of_objects = list_of_objects\n",
    "        self.list_of_characters = list_of_characters\n",
    "        self.list_of_places = list_of_places\n",
    "        self._context = self._generate_context()\n",
    "        self._question = self._generate_questions()    \n",
    "        \n",
    "    @abstractmethod\n",
    "    def _generate_questions(self):\n",
    "        pass\n",
    "\n",
    "    @abstractmethod\n",
    "    def _generate_context(self):\n",
    "        pass\n",
    "\n",
    "    @abstractmethod        \n",
    "    def _generate_answer(self,indice):\n",
    "        pass\n",
    "\n",
    "    def generate_training_example(self):\n",
    "        d = {}\n",
    "        q = self._generate_questions()\n",
    "        c = self._generate_context()\n",
    "        c.append(q[\"question\"])\n",
    "        d[\"X\"] = '\\n'.join(c)\n",
    "        d[\"Y\"] = q[\"answer\"]\n",
    "        return d"
   ]
  },
  {
   "cell_type": "code",
   "execution_count": 14,
   "metadata": {
    "ExecuteTime": {
     "end_time": "2017-08-22T12:48:23.110695",
     "start_time": "2017-08-22T12:48:23.059841"
    },
    "collapsed": false,
    "nbpresent": {
     "id": "7233969d-4176-484f-a1f6-11a1dbafd797"
    }
   },
   "outputs": [],
   "source": [
    "class Locations(TrainingItems):\n",
    "    def _generate_context(self):\n",
    "        self._context = list()\n",
    "        self.c0, self.c1, self.c2 = np.random.choice(self.list_of_characters, 3, replace=False)\n",
    "        self.p0, self.p1, self.p2 = list(np.random.choice(self.list_of_places, 3, replace=False))\n",
    "        self.o0 = np.random.choice(self.list_of_objects)\n",
    "\n",
    "        self._context.append(self.c0 + \" went to \" + self.p0)\n",
    "        self._context.append(self.c1 + \" took \" + self.o0 + \" in \" + self.p1)\n",
    "        self._context.append(self.c1 + \" left \" + self.o0 + \" in \" + self.p2)\n",
    "        self._context.append(self.c1 + \" joined \" + self.c0 + \" in \" + self.p0)\n",
    "        self._context.append(\n",
    "          self.c2 + \" went from \" + self.p0 + \" to the \" + self.p2 + \" because he can't stand \" + self.c1)\n",
    "        return self._context\n",
    "\n",
    "    def _generate_questions(self):\n",
    "        self._questions = defaultdict(dict)\n",
    "        self._questions[0][\"question\"] = \"Why did \" + self.c2 + \" left ?\"\n",
    "        self._questions[0][\"answer\"] = \" he doesn't like \" + self.c1\n",
    "\n",
    "        self._questions[1][\"question\"] = \"Where is the \" + self.o0 + \" ?\"\n",
    "        self._questions[1][\"answer\"] = self.p2\n",
    "\n",
    "        l = np.random.choice(len(self._questions))\n",
    "        return {\"question\": self._questions[l][\"question\"],\n",
    "                \"answer\": self._generate_answer(l) + self._questions[l][\"answer\"]}\n",
    "\n",
    "    def _generate_answer(self, indice):\n",
    "        self._formulation = defaultdict(list)\n",
    "        self._formulation[0].append(\"I guess because \")\n",
    "        self._formulation[0].append(\"I think it's because \")\n",
    "        self._formulation[1].append(\"I think it's in \")\n",
    "        self._formulation[1].append(\"Probably in \")\n",
    "        return self._formulation[indice][np.random.choice(len(self._formulation[indice]))]\n"
   ]
  },
  {
   "cell_type": "code",
   "execution_count": 16,
   "metadata": {
    "ExecuteTime": {
     "end_time": "2017-08-22T12:48:23.914120",
     "start_time": "2017-08-22T12:48:23.904379"
    },
    "collapsed": false
   },
   "outputs": [],
   "source": [
    "def write_corpus(dataset):\n",
    "    assert isinstance(dataset,dict), \"the given dataset is not of the right type. {} found, dict required \".format(type(dataset))\n",
    "    f = []\n",
    "    for _,item in dataset.iteritems():\n",
    "        sol = \" | \".join([item[\"X\"],item[\"Y\"]])\n",
    "        sol.replace(\"\\n\",' ')\n",
    "        f.append(sol)\n",
    "    return f"
   ]
  },
  {
   "cell_type": "markdown",
   "metadata": {
    "ExecuteTime": {
     "end_time": "2017-08-22T12:49:26.509863",
     "start_time": "2017-08-22T12:49:26.506247"
    }
   },
   "source": [
    "## Creating the corpus we will be using during our research"
   ]
  },
  {
   "cell_type": "code",
   "execution_count": 15,
   "metadata": {
    "ExecuteTime": {
     "end_time": "2017-08-22T12:48:23.558340",
     "start_time": "2017-08-22T12:48:23.510489"
    },
    "collapsed": false
   },
   "outputs": [],
   "source": [
    "s = Scenario(Locations)\n",
    "ss = s.create_corpus()\n",
    "a = write_corpus(ss)"
   ]
  },
  {
   "cell_type": "code",
   "execution_count": 18,
   "metadata": {
    "ExecuteTime": {
     "end_time": "2017-08-22T12:48:25.217728",
     "start_time": "2017-08-22T12:48:25.195992"
    },
    "collapsed": false
   },
   "outputs": [
    {
     "data": {
      "text/plain": [
       "\"Duncan went to the terraced house\\nDarryl took the radiator in the porch\\nDarryl left the radiator in the basement\\nDarryl joined Duncan in the terraced house\\nAlex went from the terraced house to the the basement because he can't stand Darryl\\nWhy did Carmen left ? |\\xc2\\xa0I think it's because  he doesn't like Darryl\""
      ]
     },
     "execution_count": 18,
     "metadata": {},
     "output_type": "execute_result"
    }
   ],
   "source": [
    "a[0]"
   ]
  },
  {
   "cell_type": "markdown",
   "metadata": {
    "collapsed": true
   },
   "source": [
    "## Using Wordnet to generalize the world used in the sentences"
   ]
  },
  {
   "cell_type": "code",
   "execution_count": 17,
   "metadata": {
    "ExecuteTime": {
     "end_time": "2017-02-24T19:39:48.390209",
     "start_time": "2017-02-24T19:39:48.371695"
    },
    "collapsed": false,
    "run_control": {
     "marked": false
    }
   },
   "outputs": [
    {
     "name": "stdout",
     "output_type": "stream",
     "text": [
      "[u'bring', u'convey', u'take']\n",
      "##################\n",
      "leave.n.01\n",
      "[u'leave', u'leave_of_absence']\n",
      "leave.n.02\n",
      "[u'leave']\n",
      "farewell.n.02\n",
      "[u'farewell', u'leave', u'leave-taking', u'parting']\n",
      "leave.v.01\n",
      "[u'leave', u'go_forth', u'go_away']\n",
      "leave.v.02\n",
      "[u'leave']\n",
      "leave.v.03\n",
      "[u'leave']\n",
      "leave.v.04\n",
      "[u'leave', u'leave_alone', u'leave_behind']\n",
      "exit.v.01\n",
      "[u'exit', u'go_out', u'get_out', u'leave']\n",
      "leave.v.06\n",
      "[u'leave', u'allow_for', u'allow', u'provide']\n",
      "leave.v.07\n",
      "[u'leave', u'result', u'lead']\n",
      "leave.v.08\n",
      "[u'leave', u'depart', u'pull_up_stakes']\n",
      "entrust.v.02\n",
      "[u'entrust', u'leave']\n",
      "bequeath.v.01\n",
      "[u'bequeath', u'will', u'leave']\n",
      "leave.v.11\n",
      "[u'leave']\n",
      "leave.v.12\n",
      "[u'leave', u'leave_behind']\n",
      "impart.v.01\n",
      "[u'impart', u'leave', u'give', u'pass_on']\n",
      "forget.v.04\n",
      "[u'forget', u'leave']\n"
     ]
    }
   ],
   "source": [
    "from nltk import wordnet\n",
    "w = wordnet.wordnet\n",
    "## dir(w)\n",
    "## Test \n",
    "t = w.synsets(\"take\")\n",
    "for i in t :\n",
    "    if i.name() == \"bring.v.01\":\n",
    "        print(i.lemma_names())\n",
    "# Test 1\n",
    "print(\"##################\")\n",
    "t = w.synsets(\"leave\")\n",
    "for i in t :\n",
    "    print(i.name())\n",
    "    print(i.lemma_names())"
   ]
  }
 ],
 "metadata": {
  "anaconda-cloud": {},
  "kernelspec": {
   "display_name": "Python [conda root]",
   "language": "python",
   "name": "conda-root-py"
  },
  "language_info": {
   "codemirror_mode": {
    "name": "ipython",
    "version": 2
   },
   "file_extension": ".py",
   "mimetype": "text/x-python",
   "name": "python",
   "nbconvert_exporter": "python",
   "pygments_lexer": "ipython2",
   "version": "2.7.12"
  },
  "latex_envs": {
   "bibliofile": "biblio.bib",
   "cite_by": "apalike",
   "current_citInitial": 1,
   "eqLabelWithNumbers": true,
   "eqNumInitial": 0
  },
  "nav_menu": {},
  "nbpresent": {
   "slides": {
    "2ca485f9-0370-432f-933d-6f96780d57d1": {
     "id": "2ca485f9-0370-432f-933d-6f96780d57d1",
     "prev": "f5b63cc0-0d72-4a74-ad10-63da474e772b",
     "regions": {
      "3648425c-8eef-4a6c-9152-b336434718f8": {
       "attrs": {
        "height": 0.8,
        "width": 0.8,
        "x": 0.1,
        "y": 0.1
       },
       "content": {
        "cell": "fc7eb25b-f301-4af0-ab04-6cbf7da3b990",
        "part": "whole"
       },
       "id": "3648425c-8eef-4a6c-9152-b336434718f8"
      }
     }
    },
    "35461ac6-a159-44b6-88b6-de34ed642661": {
     "id": "35461ac6-a159-44b6-88b6-de34ed642661",
     "prev": "2ca485f9-0370-432f-933d-6f96780d57d1",
     "regions": {
      "9937cdf8-60a1-4e69-9910-7bf4915f1a0f": {
       "attrs": {
        "height": 0.8,
        "width": 0.8,
        "x": 0.1,
        "y": 0.1
       },
       "content": {
        "cell": "90c3c605-c25c-445a-9395-73516150650b",
        "part": "whole"
       },
       "id": "9937cdf8-60a1-4e69-9910-7bf4915f1a0f"
      }
     }
    },
    "7c41a267-8f6d-4aaf-8a82-c47f6c6fdc6c": {
     "id": "7c41a267-8f6d-4aaf-8a82-c47f6c6fdc6c",
     "layout": "manual",
     "prev": null,
     "regions": {
      "f1431647-05ba-41ee-9989-72bde0a2b5d3": {
       "attrs": {
        "height": 0.8,
        "width": 0.8,
        "x": 0.1,
        "y": 0.1
       },
       "content": {
        "cell": "ad66f5e5-8d6d-43f3-a566-7bc95acf8762",
        "part": "source"
       },
       "id": "f1431647-05ba-41ee-9989-72bde0a2b5d3"
      }
     }
    },
    "bd4f391b-4083-4ace-be13-fa5f970ea3de": {
     "id": "bd4f391b-4083-4ace-be13-fa5f970ea3de",
     "prev": "7c41a267-8f6d-4aaf-8a82-c47f6c6fdc6c",
     "regions": {
      "6fc88751-3aa9-4202-a291-60a7d3637671": {
       "attrs": {
        "height": 0.8,
        "width": 0.8,
        "x": 0.1,
        "y": 0.1
       },
       "content": {
        "cell": "aabd69af-1ed4-4c07-95b1-51a4cdeb812f",
        "part": "whole"
       },
       "id": "6fc88751-3aa9-4202-a291-60a7d3637671"
      }
     }
    },
    "ca3e911a-5ec3-42fb-8239-46131617e403": {
     "id": "ca3e911a-5ec3-42fb-8239-46131617e403",
     "prev": "35461ac6-a159-44b6-88b6-de34ed642661",
     "regions": {
      "3acd4624-6767-4035-bfbf-a5f63407de44": {
       "attrs": {
        "height": 0.8,
        "width": 0.8,
        "x": 0.1,
        "y": 0.1
       },
       "content": {
        "cell": "3da764e0-2fc3-4000-88d6-5fdcf1b80c82",
        "part": "whole"
       },
       "id": "3acd4624-6767-4035-bfbf-a5f63407de44"
      }
     }
    },
    "d26c072d-9e39-428f-b953-5fa68d3345ad": {
     "id": "d26c072d-9e39-428f-b953-5fa68d3345ad",
     "prev": "f55c8459-89e8-4170-b859-188d05098f66",
     "regions": {
      "469d2205-a11e-4be3-aa00-fb5e40498f61": {
       "attrs": {
        "height": 0.8,
        "width": 0.8,
        "x": 0.1,
        "y": 0.1
       },
       "content": {
        "cell": "1a4eab51-a98c-447e-9b58-2b5436c0527b",
        "part": "whole"
       },
       "id": "469d2205-a11e-4be3-aa00-fb5e40498f61"
      }
     }
    },
    "e86c9f5e-5963-4f8c-a6d0-e194e5ca1945": {
     "id": "e86c9f5e-5963-4f8c-a6d0-e194e5ca1945",
     "prev": "ca3e911a-5ec3-42fb-8239-46131617e403",
     "regions": {
      "7800a374-f490-41d2-9e18-f51fac6eb052": {
       "attrs": {
        "height": 0.8,
        "width": 0.8,
        "x": 0.1,
        "y": 0.1
       },
       "content": {
        "cell": "177d74d6-8f54-4f6f-9eb3-0b1e312ab808",
        "part": "whole"
       },
       "id": "7800a374-f490-41d2-9e18-f51fac6eb052"
      }
     }
    },
    "f55c8459-89e8-4170-b859-188d05098f66": {
     "id": "f55c8459-89e8-4170-b859-188d05098f66",
     "prev": "e86c9f5e-5963-4f8c-a6d0-e194e5ca1945",
     "regions": {
      "e99b580a-ca7d-4759-9642-78e043fffd98": {
       "attrs": {
        "height": 0.8,
        "width": 0.8,
        "x": 0.1,
        "y": 0.1
       },
       "content": {
        "cell": "b8153f6c-6015-43ce-a947-43605cb00f67",
        "part": "whole"
       },
       "id": "e99b580a-ca7d-4759-9642-78e043fffd98"
      }
     }
    },
    "f5b63cc0-0d72-4a74-ad10-63da474e772b": {
     "id": "f5b63cc0-0d72-4a74-ad10-63da474e772b",
     "prev": "bd4f391b-4083-4ace-be13-fa5f970ea3de",
     "regions": {
      "0be87ea8-e977-4915-933a-32e4d8ceca9f": {
       "attrs": {
        "height": 0.8,
        "width": 0.8,
        "x": 0.1,
        "y": 0.1
       },
       "content": {
        "cell": "a8eb4ee6-1a1f-4baf-9278-f3a24678279e",
        "part": "whole"
       },
       "id": "0be87ea8-e977-4915-933a-32e4d8ceca9f"
      }
     }
    }
   },
   "themes": {
    "default": "78034a51-c955-4cea-ab68-d352d2302dd0",
    "theme": {
     "78034a51-c955-4cea-ab68-d352d2302dd0": {
      "id": "78034a51-c955-4cea-ab68-d352d2302dd0",
      "palette": {
       "19cc588f-0593-49c9-9f4b-e4d7cc113b1c": {
        "id": "19cc588f-0593-49c9-9f4b-e4d7cc113b1c",
        "rgb": [
         252,
         252,
         252
        ]
       },
       "31af15d2-7e15-44c5-ab5e-e04b16a89eff": {
        "id": "31af15d2-7e15-44c5-ab5e-e04b16a89eff",
        "rgb": [
         68,
         68,
         68
        ]
       },
       "50f92c45-a630-455b-aec3-788680ec7410": {
        "id": "50f92c45-a630-455b-aec3-788680ec7410",
        "rgb": [
         155,
         177,
         192
        ]
       },
       "c5cc3653-2ee1-402a-aba2-7caae1da4f6c": {
        "id": "c5cc3653-2ee1-402a-aba2-7caae1da4f6c",
        "rgb": [
         43,
         126,
         184
        ]
       },
       "efa7f048-9acb-414c-8b04-a26811511a21": {
        "id": "efa7f048-9acb-414c-8b04-a26811511a21",
        "rgb": [
         25.118061674008803,
         73.60176211453744,
         107.4819383259912
        ]
       }
      },
      "rules": {
       "blockquote": {
        "color": "50f92c45-a630-455b-aec3-788680ec7410"
       },
       "code": {
        "font-family": "Anonymous Pro"
       },
       "h1": {
        "color": "c5cc3653-2ee1-402a-aba2-7caae1da4f6c",
        "font-family": "Lato",
        "font-size": 8
       },
       "h2": {
        "color": "c5cc3653-2ee1-402a-aba2-7caae1da4f6c",
        "font-family": "Lato",
        "font-size": 6
       },
       "h3": {
        "color": "50f92c45-a630-455b-aec3-788680ec7410",
        "font-family": "Lato",
        "font-size": 5.5
       },
       "h4": {
        "color": "c5cc3653-2ee1-402a-aba2-7caae1da4f6c",
        "font-family": "Lato",
        "font-size": 5
       },
       "h5": {
        "font-family": "Lato"
       },
       "h6": {
        "font-family": "Lato"
       },
       "h7": {
        "font-family": "Lato"
       },
       "pre": {
        "font-family": "Anonymous Pro",
        "font-size": 4
       }
      },
      "text-base": {
       "font-family": "Merriweather",
       "font-size": 4
      }
     }
    }
   }
  },
  "toc": {
   "navigate_menu": true,
   "number_sections": true,
   "sideBar": true,
   "threshold": 6,
   "toc_cell": false,
   "toc_section_display": "block",
   "toc_window_display": false
  }
 },
 "nbformat": 4,
 "nbformat_minor": 1
}
