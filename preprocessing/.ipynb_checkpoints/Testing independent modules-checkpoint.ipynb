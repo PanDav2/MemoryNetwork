{
 "cells": [
  {
   "cell_type": "code",
   "execution_count": 1,
   "metadata": {
    "ExecuteTime": {
     "end_time": "2017-09-12T19:23:37",
     "start_time": "2017-09-12T17:23:37.476Z"
    },
    "collapsed": false
   },
   "outputs": [
    {
     "ename": "[string \"data_loader = require 'utils.data_loader';...\"]:1: module 'utils.data_loader' not found:\n\tno field package.preload['utils.data_loader']\n\tno file '/Users/david/.luarocks/share/lua/5.1/utils/data_loader.lua'\n\tno file '/Users/david/.luarocks/share/lua/5.1/utils/data_loader/init.lua'\n\tno file '/Users/david/torch/install/share/lua/5.1/utils/data_loader.lua'\n\tno file '/Users/david/torch/install/share/lua/5.1/utils/data_loader/init.lua'\n\tno file './utils/data_loader.lua'\n\tno file '/Users/david/torch/install/share/luajit-2.1.0-beta1/utils/data_loader.lua'\n\tno file '/usr/local/share/lua/5.1/utils/data_loader.lua'\n\tno file '/usr/local/share/lua/5.1/utils/data_loader/init.lua'\n\tno file '/Users/david/torch/install/lib/utils/data_loader.dylib'\n\tno file '/Users/david/.luarocks/lib/lua/5.1/utils/data_loader.so'\n\tno file '/Users/david/torch/install/lib/lua/5.1/utils/data_loader.so'\n\tno file '/Users/david/torch/install/lib/utils/data_loader.dylib'\n\tno file './utils/data_loader.so'\n\tno file '/usr/local/lib/lua/5.1/utils/data_loader.so'\n\tno file '/usr/local/lib/lua/5.1/loadall.so'\n\tno file '/Users/david/torch/install/lib/utils.dylib'\n\tno file '/Users/david/.luarocks/lib/lua/5.1/utils.so'\n\tno file '/Users/david/torch/install/lib/lua/5.1/utils.so'\n\tno file '/Users/david/torch/install/lib/utils.dylib'\n\tno file './utils.so'\n\tno file '/usr/local/lib/lua/5.1/utils.so'\n\tno file '/usr/local/lib/lua/5.1/loadall.so'\nstack traceback:\n\t[C]: in function 'require'\n\t[string \"data_loader = require 'utils.data_loader';...\"]:1: in main chunk\n\t[C]: in function 'xpcall'\n\t/Users/david/torch/install/share/lua/5.1/itorch/main.lua:210: in function </Users/david/torch/install/share/lua/5.1/itorch/main.lua:174>\n\t/Users/david/torch/install/share/lua/5.1/lzmq/poller.lua:80: in function 'poll'\n\t/Users/david/torch/install/share/lua/5.1/lzmq/impl/loop.lua:307: in function 'poll'\n\t/Users/david/torch/install/share/lua/5.1/lzmq/impl/loop.lua:325: in function 'sleep_ex'\n\t/Users/david/torch/install/share/lua/5.1/lzmq/impl/loop.lua:370: in function 'start'\n\t/Users/david/torch/install/share/lua/5.1/itorch/main.lua:389: in main chunk\n\t[C]: in function 'require'\n\t(command line):1: in main chunk\n\t[C]: at 0x01086e1a10",
     "evalue": "",
     "output_type": "error",
     "traceback": [
      "[string \"data_loader = require 'utils.data_loader';...\"]:1: module 'utils.data_loader' not found:\n\tno field package.preload['utils.data_loader']\n\tno file '/Users/david/.luarocks/share/lua/5.1/utils/data_loader.lua'\n\tno file '/Users/david/.luarocks/share/lua/5.1/utils/data_loader/init.lua'\n\tno file '/Users/david/torch/install/share/lua/5.1/utils/data_loader.lua'\n\tno file '/Users/david/torch/install/share/lua/5.1/utils/data_loader/init.lua'\n\tno file './utils/data_loader.lua'\n\tno file '/Users/david/torch/install/share/luajit-2.1.0-beta1/utils/data_loader.lua'\n\tno file '/usr/local/share/lua/5.1/utils/data_loader.lua'\n\tno file '/usr/local/share/lua/5.1/utils/data_loader/init.lua'\n\tno file '/Users/david/torch/install/lib/utils/data_loader.dylib'\n\tno file '/Users/david/.luarocks/lib/lua/5.1/utils/data_loader.so'\n\tno file '/Users/david/torch/install/lib/lua/5.1/utils/data_loader.so'\n\tno file '/Users/david/torch/install/lib/utils/data_loader.dylib'\n\tno file './utils/data_loader.so'\n\tno file '/usr/local/lib/lua/5.1/utils/data_loader.so'\n\tno file '/usr/local/lib/lua/5.1/loadall.so'\n\tno file '/Users/david/torch/install/lib/utils.dylib'\n\tno file '/Users/david/.luarocks/lib/lua/5.1/utils.so'\n\tno file '/Users/david/torch/install/lib/lua/5.1/utils.so'\n\tno file '/Users/david/torch/install/lib/utils.dylib'\n\tno file './utils.so'\n\tno file '/usr/local/lib/lua/5.1/utils.so'\n\tno file '/usr/local/lib/lua/5.1/loadall.so'\nstack traceback:\n\t[C]: in function 'require'\n\t[string \"data_loader = require 'utils.data_loader';...\"]:1: in main chunk\n\t[C]: in function 'xpcall'\n\t/Users/david/torch/install/share/lua/5.1/itorch/main.lua:210: in function </Users/david/torch/install/share/lua/5.1/itorch/main.lua:174>\n\t/Users/david/torch/install/share/lua/5.1/lzmq/poller.lua:80: in function 'poll'\n\t/Users/david/torch/install/share/lua/5.1/lzmq/impl/loop.lua:307: in function 'poll'\n\t/Users/david/torch/install/share/lua/5.1/lzmq/impl/loop.lua:325: in function 'sleep_ex'\n\t/Users/david/torch/install/share/lua/5.1/lzmq/impl/loop.lua:370: in function 'start'\n\t/Users/david/torch/install/share/lua/5.1/itorch/main.lua:389: in main chunk\n\t[C]: in function 'require'\n\t(command line):1: in main chunk\n\t[C]: at 0x01086e1a10"
     ]
    }
   ],
   "source": [
    "data_loader = require 'utils.data_loader';"
   ]
  },
  {
   "cell_type": "code",
   "execution_count": null,
   "metadata": {
    "collapsed": true
   },
   "outputs": [],
   "source": []
  },
  {
   "cell_type": "code",
   "execution_count": null,
   "metadata": {
    "collapsed": true
   },
   "outputs": [],
   "source": []
  },
  {
   "cell_type": "code",
   "execution_count": null,
   "metadata": {
    "collapsed": true
   },
   "outputs": [],
   "source": []
  }
 ],
 "metadata": {
  "kernelspec": {
   "display_name": "iTorch",
   "language": "lua",
   "name": "itorch"
  },
  "language_info": {
   "name": "lua",
   "version": "5.1"
  },
  "latex_envs": {
   "bibliofile": "biblio.bib",
   "cite_by": "apalike",
   "current_citInitial": 1,
   "eqLabelWithNumbers": true,
   "eqNumInitial": 0
  },
  "nav_menu": {},
  "toc": {
   "navigate_menu": true,
   "number_sections": true,
   "sideBar": true,
   "threshold": 6,
   "toc_cell": false,
   "toc_section_display": "block",
   "toc_window_display": false
  }
 },
 "nbformat": 4,
 "nbformat_minor": 1
}
